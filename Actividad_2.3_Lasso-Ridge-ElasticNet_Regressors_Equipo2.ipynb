{
 "cells": [
  {
   "cell_type": "markdown",
   "id": "737e4662",
   "metadata": {},
   "source": [
    "Actividad 2.3: Lasso - Ridge - ElasticNet Regressors\n",
    "=\n",
    "### Jorge Emilio Treviño González - #545388\n",
    "### Jaime\n",
    "---"
   ]
  },
  {
   "cell_type": "code",
   "execution_count": 1,
   "id": "acf47a4f",
   "metadata": {},
   "outputs": [],
   "source": [
    "import pandas as pd\n",
    "import numpy as np\n",
    "import matplotlib.pyplot as plt\n",
    "import seaborn as sns\n",
    "sns.set_style('darkgrid')\n",
    "\n",
    "# Librería de significancia estadística\n",
    "import statsmodels.formula.api as smf\n",
    "\n",
    "# Librería para separar los datos en train y tes\n",
    "from sklearn.model_selection import train_test_split\n",
    "\n",
    "# Librería del modelo de regresión lineal \n",
    "from sklearn.linear_model import LinearRegression\n",
    "\n",
    "from sklearn.metrics import mean_absolute_error as mse #MSE \n",
    "from sklearn.metrics import mean_absolute_percentage_error as mape #MAPE\n",
    "\n",
    "# Librería para optimizar parámetros\n",
    "from sklearn.model_selection import GridSearchCV"
   ]
  },
  {
   "cell_type": "code",
   "execution_count": 2,
   "id": "e4f10231",
   "metadata": {},
   "outputs": [
    {
     "name": "stdout",
     "output_type": "stream",
     "text": [
      "(6435, 8)\n"
     ]
    },
    {
     "data": {
      "text/html": [
       "<div>\n",
       "<style scoped>\n",
       "    .dataframe tbody tr th:only-of-type {\n",
       "        vertical-align: middle;\n",
       "    }\n",
       "\n",
       "    .dataframe tbody tr th {\n",
       "        vertical-align: top;\n",
       "    }\n",
       "\n",
       "    .dataframe thead th {\n",
       "        text-align: right;\n",
       "    }\n",
       "</style>\n",
       "<table border=\"1\" class=\"dataframe\">\n",
       "  <thead>\n",
       "    <tr style=\"text-align: right;\">\n",
       "      <th></th>\n",
       "      <th>Store</th>\n",
       "      <th>Date</th>\n",
       "      <th>Weekly_Sales</th>\n",
       "      <th>Holiday_Flag</th>\n",
       "      <th>Temperature</th>\n",
       "      <th>Fuel_Price</th>\n",
       "      <th>CPI</th>\n",
       "      <th>Unemployment</th>\n",
       "    </tr>\n",
       "  </thead>\n",
       "  <tbody>\n",
       "    <tr>\n",
       "      <th>0</th>\n",
       "      <td>1</td>\n",
       "      <td>05-02-2010</td>\n",
       "      <td>1643690.90</td>\n",
       "      <td>0</td>\n",
       "      <td>42.31</td>\n",
       "      <td>2.572</td>\n",
       "      <td>211.096358</td>\n",
       "      <td>8.106</td>\n",
       "    </tr>\n",
       "    <tr>\n",
       "      <th>1</th>\n",
       "      <td>1</td>\n",
       "      <td>12-02-2010</td>\n",
       "      <td>1641957.44</td>\n",
       "      <td>1</td>\n",
       "      <td>38.51</td>\n",
       "      <td>2.548</td>\n",
       "      <td>211.242170</td>\n",
       "      <td>8.106</td>\n",
       "    </tr>\n",
       "    <tr>\n",
       "      <th>2</th>\n",
       "      <td>1</td>\n",
       "      <td>19-02-2010</td>\n",
       "      <td>1611968.17</td>\n",
       "      <td>0</td>\n",
       "      <td>39.93</td>\n",
       "      <td>2.514</td>\n",
       "      <td>211.289143</td>\n",
       "      <td>8.106</td>\n",
       "    </tr>\n",
       "  </tbody>\n",
       "</table>\n",
       "</div>"
      ],
      "text/plain": [
       "   Store        Date  Weekly_Sales  Holiday_Flag  Temperature  Fuel_Price  \\\n",
       "0      1  05-02-2010    1643690.90             0        42.31       2.572   \n",
       "1      1  12-02-2010    1641957.44             1        38.51       2.548   \n",
       "2      1  19-02-2010    1611968.17             0        39.93       2.514   \n",
       "\n",
       "          CPI  Unemployment  \n",
       "0  211.096358         8.106  \n",
       "1  211.242170         8.106  \n",
       "2  211.289143         8.106  "
      ]
     },
     "execution_count": 2,
     "metadata": {},
     "output_type": "execute_result"
    }
   ],
   "source": [
    "# Leer los datos\n",
    "df = pd.read_csv('Walmart.csv')\n",
    "print(df.shape)\n",
    "df.head(3)\n",
    "#Store"
   ]
  },
  {
   "cell_type": "markdown",
   "id": "39ad88c4",
   "metadata": {},
   "source": [
    "__Ingeniería de datos básica y elemental__"
   ]
  },
  {
   "cell_type": "code",
   "execution_count": 3,
   "id": "97b05fff",
   "metadata": {},
   "outputs": [
    {
     "name": "stdout",
     "output_type": "stream",
     "text": [
      "Tabla de datos vacios por columna:\n",
      "\n",
      "Store           0\n",
      "Date            0\n",
      "Weekly_Sales    0\n",
      "Holiday_Flag    0\n",
      "Temperature     0\n",
      "Fuel_Price      0\n",
      "CPI             0\n",
      "Unemployment    0\n",
      "dtype: int64\n",
      "\n",
      "La cantidad de registros duplicados es de: 0\n",
      "\n",
      "Tabla de registros duplicados:\n"
     ]
    },
    {
     "data": {
      "text/html": [
       "<div>\n",
       "<style scoped>\n",
       "    .dataframe tbody tr th:only-of-type {\n",
       "        vertical-align: middle;\n",
       "    }\n",
       "\n",
       "    .dataframe tbody tr th {\n",
       "        vertical-align: top;\n",
       "    }\n",
       "\n",
       "    .dataframe thead th {\n",
       "        text-align: right;\n",
       "    }\n",
       "</style>\n",
       "<table border=\"1\" class=\"dataframe\">\n",
       "  <thead>\n",
       "    <tr style=\"text-align: right;\">\n",
       "      <th></th>\n",
       "      <th>Store</th>\n",
       "      <th>Date</th>\n",
       "      <th>Weekly_Sales</th>\n",
       "      <th>Holiday_Flag</th>\n",
       "      <th>Temperature</th>\n",
       "      <th>Fuel_Price</th>\n",
       "      <th>CPI</th>\n",
       "      <th>Unemployment</th>\n",
       "    </tr>\n",
       "  </thead>\n",
       "  <tbody>\n",
       "  </tbody>\n",
       "</table>\n",
       "</div>"
      ],
      "text/plain": [
       "Empty DataFrame\n",
       "Columns: [Store, Date, Weekly_Sales, Holiday_Flag, Temperature, Fuel_Price, CPI, Unemployment]\n",
       "Index: []"
      ]
     },
     "execution_count": 3,
     "metadata": {},
     "output_type": "execute_result"
    }
   ],
   "source": [
    "# Identificando datos vacíos y registros duplicados. \n",
    "print(\"Tabla de datos vacios por columna:\\n\")\n",
    "print(df.isna().sum())\n",
    "print(\"\\nLa cantidad de registros duplicados es de:\",df.duplicated(subset = df.columns, keep = False).sum())\n",
    "print(\"\\nTabla de registros duplicados:\")\n",
    "df[df.duplicated(subset = df.columns, keep = False)]"
   ]
  },
  {
   "cell_type": "markdown",
   "id": "11cc305d",
   "metadata": {},
   "source": [
    "_La base de datos se encuentra completa y sin registros duplicados_"
   ]
  },
  {
   "cell_type": "code",
   "execution_count": 4,
   "id": "1a15132e",
   "metadata": {},
   "outputs": [
    {
     "data": {
      "text/plain": [
       "Store             int64\n",
       "Date             object\n",
       "Weekly_Sales    float64\n",
       "Holiday_Flag      int64\n",
       "Temperature     float64\n",
       "Fuel_Price      float64\n",
       "CPI             float64\n",
       "Unemployment    float64\n",
       "dtype: object"
      ]
     },
     "execution_count": 4,
     "metadata": {},
     "output_type": "execute_result"
    }
   ],
   "source": [
    "df.dtypes"
   ]
  },
  {
   "cell_type": "code",
   "execution_count": 5,
   "id": "a2fb7409",
   "metadata": {},
   "outputs": [
    {
     "data": {
      "text/html": [
       "<div>\n",
       "<style scoped>\n",
       "    .dataframe tbody tr th:only-of-type {\n",
       "        vertical-align: middle;\n",
       "    }\n",
       "\n",
       "    .dataframe tbody tr th {\n",
       "        vertical-align: top;\n",
       "    }\n",
       "\n",
       "    .dataframe thead th {\n",
       "        text-align: right;\n",
       "    }\n",
       "</style>\n",
       "<table border=\"1\" class=\"dataframe\">\n",
       "  <thead>\n",
       "    <tr style=\"text-align: right;\">\n",
       "      <th></th>\n",
       "      <th>Store</th>\n",
       "      <th>Date</th>\n",
       "      <th>Weekly_Sales</th>\n",
       "      <th>Holiday_Flag</th>\n",
       "      <th>Temperature</th>\n",
       "      <th>Fuel_Price</th>\n",
       "      <th>CPI</th>\n",
       "      <th>Unemployment</th>\n",
       "      <th>date_num</th>\n",
       "    </tr>\n",
       "  </thead>\n",
       "  <tbody>\n",
       "    <tr>\n",
       "      <th>0</th>\n",
       "      <td>1</td>\n",
       "      <td>05-02-2010</td>\n",
       "      <td>1643690.90</td>\n",
       "      <td>0</td>\n",
       "      <td>42.31</td>\n",
       "      <td>2.572</td>\n",
       "      <td>211.096358</td>\n",
       "      <td>8.106</td>\n",
       "      <td>19</td>\n",
       "    </tr>\n",
       "    <tr>\n",
       "      <th>1</th>\n",
       "      <td>1</td>\n",
       "      <td>12-02-2010</td>\n",
       "      <td>1641957.44</td>\n",
       "      <td>1</td>\n",
       "      <td>38.51</td>\n",
       "      <td>2.548</td>\n",
       "      <td>211.242170</td>\n",
       "      <td>8.106</td>\n",
       "      <td>52</td>\n",
       "    </tr>\n",
       "    <tr>\n",
       "      <th>2</th>\n",
       "      <td>1</td>\n",
       "      <td>19-02-2010</td>\n",
       "      <td>1611968.17</td>\n",
       "      <td>0</td>\n",
       "      <td>39.93</td>\n",
       "      <td>2.514</td>\n",
       "      <td>211.289143</td>\n",
       "      <td>8.106</td>\n",
       "      <td>85</td>\n",
       "    </tr>\n",
       "  </tbody>\n",
       "</table>\n",
       "</div>"
      ],
      "text/plain": [
       "   Store        Date  Weekly_Sales  Holiday_Flag  Temperature  Fuel_Price  \\\n",
       "0      1  05-02-2010    1643690.90             0        42.31       2.572   \n",
       "1      1  12-02-2010    1641957.44             1        38.51       2.548   \n",
       "2      1  19-02-2010    1611968.17             0        39.93       2.514   \n",
       "\n",
       "          CPI  Unemployment  date_num  \n",
       "0  211.096358         8.106        19  \n",
       "1  211.242170         8.106        52  \n",
       "2  211.289143         8.106        85  "
      ]
     },
     "execution_count": 5,
     "metadata": {},
     "output_type": "execute_result"
    }
   ],
   "source": [
    "# Convirtiendo la variable object en int\n",
    "df['date_num'] = df['Date'].astype('category').cat.codes\n",
    "df.head(3)"
   ]
  },
  {
   "cell_type": "markdown",
   "id": "07df9156",
   "metadata": {},
   "source": [
    "__Estudiamos la correlación__"
   ]
  },
  {
   "cell_type": "code",
   "execution_count": 6,
   "id": "afc33790",
   "metadata": {},
   "outputs": [
    {
     "data": {
      "text/html": [
       "<div>\n",
       "<style scoped>\n",
       "    .dataframe tbody tr th:only-of-type {\n",
       "        vertical-align: middle;\n",
       "    }\n",
       "\n",
       "    .dataframe tbody tr th {\n",
       "        vertical-align: top;\n",
       "    }\n",
       "\n",
       "    .dataframe thead th {\n",
       "        text-align: right;\n",
       "    }\n",
       "</style>\n",
       "<table border=\"1\" class=\"dataframe\">\n",
       "  <thead>\n",
       "    <tr style=\"text-align: right;\">\n",
       "      <th></th>\n",
       "      <th>Store</th>\n",
       "      <th>Weekly_Sales</th>\n",
       "      <th>Holiday_Flag</th>\n",
       "      <th>Temperature</th>\n",
       "      <th>Fuel_Price</th>\n",
       "      <th>CPI</th>\n",
       "      <th>Unemployment</th>\n",
       "      <th>date_num</th>\n",
       "    </tr>\n",
       "  </thead>\n",
       "  <tbody>\n",
       "    <tr>\n",
       "      <th>Store</th>\n",
       "      <td>1.000000e+00</td>\n",
       "      <td>-0.335332</td>\n",
       "      <td>-4.386841e-16</td>\n",
       "      <td>-0.022659</td>\n",
       "      <td>0.060023</td>\n",
       "      <td>-0.209492</td>\n",
       "      <td>0.223531</td>\n",
       "      <td>-1.600195e-15</td>\n",
       "    </tr>\n",
       "    <tr>\n",
       "      <th>Unemployment</th>\n",
       "      <td>2.235313e-01</td>\n",
       "      <td>-0.106176</td>\n",
       "      <td>1.096028e-02</td>\n",
       "      <td>0.101158</td>\n",
       "      <td>-0.034684</td>\n",
       "      <td>-0.302020</td>\n",
       "      <td>1.000000</td>\n",
       "      <td>-4.038805e-03</td>\n",
       "    </tr>\n",
       "    <tr>\n",
       "      <th>CPI</th>\n",
       "      <td>-2.094919e-01</td>\n",
       "      <td>-0.072634</td>\n",
       "      <td>-2.162091e-03</td>\n",
       "      <td>0.176888</td>\n",
       "      <td>-0.170642</td>\n",
       "      <td>1.000000</td>\n",
       "      <td>-0.302020</td>\n",
       "      <td>2.593192e-03</td>\n",
       "    </tr>\n",
       "    <tr>\n",
       "      <th>Temperature</th>\n",
       "      <td>-2.265908e-02</td>\n",
       "      <td>-0.063810</td>\n",
       "      <td>-1.550913e-01</td>\n",
       "      <td>1.000000</td>\n",
       "      <td>0.144982</td>\n",
       "      <td>0.176888</td>\n",
       "      <td>0.101158</td>\n",
       "      <td>3.466788e-02</td>\n",
       "    </tr>\n",
       "    <tr>\n",
       "      <th>date_num</th>\n",
       "      <td>-1.600195e-15</td>\n",
       "      <td>-0.015453</td>\n",
       "      <td>4.516981e-02</td>\n",
       "      <td>0.034668</td>\n",
       "      <td>0.023262</td>\n",
       "      <td>0.002593</td>\n",
       "      <td>-0.004039</td>\n",
       "      <td>1.000000e+00</td>\n",
       "    </tr>\n",
       "    <tr>\n",
       "      <th>Fuel_Price</th>\n",
       "      <td>6.002295e-02</td>\n",
       "      <td>0.009464</td>\n",
       "      <td>-7.834652e-02</td>\n",
       "      <td>0.144982</td>\n",
       "      <td>1.000000</td>\n",
       "      <td>-0.170642</td>\n",
       "      <td>-0.034684</td>\n",
       "      <td>2.326200e-02</td>\n",
       "    </tr>\n",
       "    <tr>\n",
       "      <th>Holiday_Flag</th>\n",
       "      <td>-4.386841e-16</td>\n",
       "      <td>0.036891</td>\n",
       "      <td>1.000000e+00</td>\n",
       "      <td>-0.155091</td>\n",
       "      <td>-0.078347</td>\n",
       "      <td>-0.002162</td>\n",
       "      <td>0.010960</td>\n",
       "      <td>4.516981e-02</td>\n",
       "    </tr>\n",
       "    <tr>\n",
       "      <th>Weekly_Sales</th>\n",
       "      <td>-3.353320e-01</td>\n",
       "      <td>1.000000</td>\n",
       "      <td>3.689097e-02</td>\n",
       "      <td>-0.063810</td>\n",
       "      <td>0.009464</td>\n",
       "      <td>-0.072634</td>\n",
       "      <td>-0.106176</td>\n",
       "      <td>-1.545254e-02</td>\n",
       "    </tr>\n",
       "  </tbody>\n",
       "</table>\n",
       "</div>"
      ],
      "text/plain": [
       "                     Store  Weekly_Sales  Holiday_Flag  Temperature  \\\n",
       "Store         1.000000e+00     -0.335332 -4.386841e-16    -0.022659   \n",
       "Unemployment  2.235313e-01     -0.106176  1.096028e-02     0.101158   \n",
       "CPI          -2.094919e-01     -0.072634 -2.162091e-03     0.176888   \n",
       "Temperature  -2.265908e-02     -0.063810 -1.550913e-01     1.000000   \n",
       "date_num     -1.600195e-15     -0.015453  4.516981e-02     0.034668   \n",
       "Fuel_Price    6.002295e-02      0.009464 -7.834652e-02     0.144982   \n",
       "Holiday_Flag -4.386841e-16      0.036891  1.000000e+00    -0.155091   \n",
       "Weekly_Sales -3.353320e-01      1.000000  3.689097e-02    -0.063810   \n",
       "\n",
       "              Fuel_Price       CPI  Unemployment      date_num  \n",
       "Store           0.060023 -0.209492      0.223531 -1.600195e-15  \n",
       "Unemployment   -0.034684 -0.302020      1.000000 -4.038805e-03  \n",
       "CPI            -0.170642  1.000000     -0.302020  2.593192e-03  \n",
       "Temperature     0.144982  0.176888      0.101158  3.466788e-02  \n",
       "date_num        0.023262  0.002593     -0.004039  1.000000e+00  \n",
       "Fuel_Price      1.000000 -0.170642     -0.034684  2.326200e-02  \n",
       "Holiday_Flag   -0.078347 -0.002162      0.010960  4.516981e-02  \n",
       "Weekly_Sales    0.009464 -0.072634     -0.106176 -1.545254e-02  "
      ]
     },
     "execution_count": 6,
     "metadata": {},
     "output_type": "execute_result"
    }
   ],
   "source": [
    "df.corr().sort_values(by = 'Weekly_Sales')"
   ]
  },
  {
   "cell_type": "markdown",
   "id": "16ac96dd",
   "metadata": {},
   "source": [
    "__Future Selection__ - ANOVA\n",
    "<!--  -->\n",
    "Usaremos la significancia estadística (prueba de hipótesis)"
   ]
  },
  {
   "cell_type": "code",
   "execution_count": 7,
   "id": "b3e7d965",
   "metadata": {},
   "outputs": [
    {
     "data": {
      "text/html": [
       "<table class=\"simpletable\">\n",
       "<caption>OLS Regression Results</caption>\n",
       "<tr>\n",
       "  <th>Dep. Variable:</th>      <td>Weekly_Sales</td>   <th>  R-squared:         </th> <td>   0.142</td> \n",
       "</tr>\n",
       "<tr>\n",
       "  <th>Model:</th>                   <td>OLS</td>       <th>  Adj. R-squared:    </th> <td>   0.141</td> \n",
       "</tr>\n",
       "<tr>\n",
       "  <th>Method:</th>             <td>Least Squares</td>  <th>  F-statistic:       </th> <td>   151.7</td> \n",
       "</tr>\n",
       "<tr>\n",
       "  <th>Date:</th>             <td>Sun, 09 Oct 2022</td> <th>  Prob (F-statistic):</th> <td>5.02e-208</td>\n",
       "</tr>\n",
       "<tr>\n",
       "  <th>Time:</th>                 <td>23:26:46</td>     <th>  Log-Likelihood:    </th> <td> -93860.</td> \n",
       "</tr>\n",
       "<tr>\n",
       "  <th>No. Observations:</th>      <td>  6435</td>      <th>  AIC:               </th> <td>1.877e+05</td>\n",
       "</tr>\n",
       "<tr>\n",
       "  <th>Df Residuals:</th>          <td>  6427</td>      <th>  BIC:               </th> <td>1.878e+05</td>\n",
       "</tr>\n",
       "<tr>\n",
       "  <th>Df Model:</th>              <td>     7</td>      <th>                     </th>     <td> </td>    \n",
       "</tr>\n",
       "<tr>\n",
       "  <th>Covariance Type:</th>      <td>nonrobust</td>    <th>                     </th>     <td> </td>    \n",
       "</tr>\n",
       "</table>\n",
       "<table class=\"simpletable\">\n",
       "<tr>\n",
       "        <td></td>          <th>coef</th>     <th>std err</th>      <th>t</th>      <th>P>|t|</th>  <th>[0.025</th>    <th>0.975]</th>  \n",
       "</tr>\n",
       "<tr>\n",
       "  <th>Intercept</th>    <td> 2.009e+06</td> <td>  7.6e+04</td> <td>   26.424</td> <td> 0.000</td> <td> 1.86e+06</td> <td> 2.16e+06</td>\n",
       "</tr>\n",
       "<tr>\n",
       "  <th>Store</th>        <td>-1.539e+04</td> <td>  521.859</td> <td>  -29.487</td> <td> 0.000</td> <td>-1.64e+04</td> <td>-1.44e+04</td>\n",
       "</tr>\n",
       "<tr>\n",
       "  <th>Holiday_Flag</th> <td> 7.492e+04</td> <td>  2.6e+04</td> <td>    2.884</td> <td> 0.004</td> <td>  2.4e+04</td> <td> 1.26e+05</td>\n",
       "</tr>\n",
       "<tr>\n",
       "  <th>Temperature</th>  <td> -955.0561</td> <td>  376.237</td> <td>   -2.538</td> <td> 0.011</td> <td>-1692.607</td> <td> -217.505</td>\n",
       "</tr>\n",
       "<tr>\n",
       "  <th>Fuel_Price</th>   <td> 9995.5107</td> <td> 1.48e+04</td> <td>    0.675</td> <td> 0.500</td> <td> -1.9e+04</td> <td>  3.9e+04</td>\n",
       "</tr>\n",
       "<tr>\n",
       "  <th>CPI</th>          <td>-2320.3359</td> <td>  184.760</td> <td>  -12.559</td> <td> 0.000</td> <td>-2682.527</td> <td>-1958.145</td>\n",
       "</tr>\n",
       "<tr>\n",
       "  <th>Unemployment</th> <td>-2.193e+04</td> <td> 3787.880</td> <td>   -5.789</td> <td> 0.000</td> <td>-2.94e+04</td> <td>-1.45e+04</td>\n",
       "</tr>\n",
       "<tr>\n",
       "  <th>date_num</th>     <td> -218.2346</td> <td>  158.317</td> <td>   -1.378</td> <td> 0.168</td> <td> -528.589</td> <td>   92.120</td>\n",
       "</tr>\n",
       "</table>\n",
       "<table class=\"simpletable\">\n",
       "<tr>\n",
       "  <th>Omnibus:</th>       <td>191.096</td> <th>  Durbin-Watson:     </th> <td>   0.128</td>\n",
       "</tr>\n",
       "<tr>\n",
       "  <th>Prob(Omnibus):</th> <td> 0.000</td>  <th>  Jarque-Bera (JB):  </th> <td> 207.735</td>\n",
       "</tr>\n",
       "<tr>\n",
       "  <th>Skew:</th>          <td> 0.436</td>  <th>  Prob(JB):          </th> <td>7.78e-46</td>\n",
       "</tr>\n",
       "<tr>\n",
       "  <th>Kurtosis:</th>      <td> 3.114</td>  <th>  Cond. No.          </th> <td>2.36e+03</td>\n",
       "</tr>\n",
       "</table><br/><br/>Notes:<br/>[1] Standard Errors assume that the covariance matrix of the errors is correctly specified.<br/>[2] The condition number is large, 2.36e+03. This might indicate that there are<br/>strong multicollinearity or other numerical problems."
      ],
      "text/plain": [
       "<class 'statsmodels.iolib.summary.Summary'>\n",
       "\"\"\"\n",
       "                            OLS Regression Results                            \n",
       "==============================================================================\n",
       "Dep. Variable:           Weekly_Sales   R-squared:                       0.142\n",
       "Model:                            OLS   Adj. R-squared:                  0.141\n",
       "Method:                 Least Squares   F-statistic:                     151.7\n",
       "Date:                Sun, 09 Oct 2022   Prob (F-statistic):          5.02e-208\n",
       "Time:                        23:26:46   Log-Likelihood:                -93860.\n",
       "No. Observations:                6435   AIC:                         1.877e+05\n",
       "Df Residuals:                    6427   BIC:                         1.878e+05\n",
       "Df Model:                           7                                         \n",
       "Covariance Type:            nonrobust                                         \n",
       "================================================================================\n",
       "                   coef    std err          t      P>|t|      [0.025      0.975]\n",
       "--------------------------------------------------------------------------------\n",
       "Intercept     2.009e+06    7.6e+04     26.424      0.000    1.86e+06    2.16e+06\n",
       "Store        -1.539e+04    521.859    -29.487      0.000   -1.64e+04   -1.44e+04\n",
       "Holiday_Flag  7.492e+04    2.6e+04      2.884      0.004     2.4e+04    1.26e+05\n",
       "Temperature   -955.0561    376.237     -2.538      0.011   -1692.607    -217.505\n",
       "Fuel_Price    9995.5107   1.48e+04      0.675      0.500    -1.9e+04     3.9e+04\n",
       "CPI          -2320.3359    184.760    -12.559      0.000   -2682.527   -1958.145\n",
       "Unemployment -2.193e+04   3787.880     -5.789      0.000   -2.94e+04   -1.45e+04\n",
       "date_num      -218.2346    158.317     -1.378      0.168    -528.589      92.120\n",
       "==============================================================================\n",
       "Omnibus:                      191.096   Durbin-Watson:                   0.128\n",
       "Prob(Omnibus):                  0.000   Jarque-Bera (JB):              207.735\n",
       "Skew:                           0.436   Prob(JB):                     7.78e-46\n",
       "Kurtosis:                       3.114   Cond. No.                     2.36e+03\n",
       "==============================================================================\n",
       "\n",
       "Notes:\n",
       "[1] Standard Errors assume that the covariance matrix of the errors is correctly specified.\n",
       "[2] The condition number is large, 2.36e+03. This might indicate that there are\n",
       "strong multicollinearity or other numerical problems.\n",
       "\"\"\""
      ]
     },
     "execution_count": 7,
     "metadata": {},
     "output_type": "execute_result"
    }
   ],
   "source": [
    "FS = smf.ols(formula = 'Weekly_Sales ~ Store + Holiday_Flag + Temperature + Fuel_Price + CPI + Unemployment + date_num',\n",
    "            data = df).fit()\n",
    "FS.summary()"
   ]
  },
  {
   "cell_type": "code",
   "execution_count": 8,
   "id": "654fa6cd",
   "metadata": {},
   "outputs": [
    {
     "data": {
      "text/plain": [
       "Store           2.403443e-179\n",
       "Intercept       3.683003e-146\n",
       "CPI              9.346466e-36\n",
       "Unemployment     7.427731e-09\n",
       "Holiday_Flag     3.939325e-03\n",
       "Temperature      1.115818e-02\n",
       "date_num         1.681082e-01\n",
       "Fuel_Price       4.998148e-01\n",
       "dtype: float64"
      ]
     },
     "execution_count": 8,
     "metadata": {},
     "output_type": "execute_result"
    }
   ],
   "source": [
    "# Obtenemos los pvalues\n",
    "FS.pvalues.sort_values(ascending = True)"
   ]
  },
  {
   "cell_type": "markdown",
   "id": "cbad7135",
   "metadata": {},
   "source": [
    "Las variables que tienen un *p_value* mayor a 0.05, y por tanto __no son importantes__ para el modelo son:\n",
    "* '*date_num*'\n",
    "* '*Fuel_price*'"
   ]
  },
  {
   "cell_type": "code",
   "execution_count": 9,
   "id": "c67ff61b",
   "metadata": {},
   "outputs": [
    {
     "data": {
      "text/html": [
       "<table class=\"simpletable\">\n",
       "<caption>OLS Regression Results</caption>\n",
       "<tr>\n",
       "  <th>Dep. Variable:</th>      <td>Weekly_Sales</td>   <th>  R-squared:         </th> <td>   0.141</td> \n",
       "</tr>\n",
       "<tr>\n",
       "  <th>Model:</th>                   <td>OLS</td>       <th>  Adj. R-squared:    </th> <td>   0.141</td> \n",
       "</tr>\n",
       "<tr>\n",
       "  <th>Method:</th>             <td>Least Squares</td>  <th>  F-statistic:       </th> <td>   211.9</td> \n",
       "</tr>\n",
       "<tr>\n",
       "  <th>Date:</th>             <td>Sun, 09 Oct 2022</td> <th>  Prob (F-statistic):</th> <td>7.51e-210</td>\n",
       "</tr>\n",
       "<tr>\n",
       "  <th>Time:</th>                 <td>23:26:46</td>     <th>  Log-Likelihood:    </th> <td> -93861.</td> \n",
       "</tr>\n",
       "<tr>\n",
       "  <th>No. Observations:</th>      <td>  6435</td>      <th>  AIC:               </th> <td>1.877e+05</td>\n",
       "</tr>\n",
       "<tr>\n",
       "  <th>Df Residuals:</th>          <td>  6429</td>      <th>  BIC:               </th> <td>1.878e+05</td>\n",
       "</tr>\n",
       "<tr>\n",
       "  <th>Df Model:</th>              <td>     5</td>      <th>                     </th>     <td> </td>    \n",
       "</tr>\n",
       "<tr>\n",
       "  <th>Covariance Type:</th>      <td>nonrobust</td>    <th>                     </th>     <td> </td>    \n",
       "</tr>\n",
       "</table>\n",
       "<table class=\"simpletable\">\n",
       "<tr>\n",
       "        <td></td>          <th>coef</th>     <th>std err</th>      <th>t</th>      <th>P>|t|</th>  <th>[0.025</th>    <th>0.975]</th>  \n",
       "</tr>\n",
       "<tr>\n",
       "  <th>Intercept</th>    <td> 2.032e+06</td> <td> 5.07e+04</td> <td>   40.114</td> <td> 0.000</td> <td> 1.93e+06</td> <td> 2.13e+06</td>\n",
       "</tr>\n",
       "<tr>\n",
       "  <th>Store</th>        <td>-1.537e+04</td> <td>  521.337</td> <td>  -29.488</td> <td> 0.000</td> <td>-1.64e+04</td> <td>-1.44e+04</td>\n",
       "</tr>\n",
       "<tr>\n",
       "  <th>CPI</th>          <td>-2345.9264</td> <td>  180.191</td> <td>  -13.019</td> <td> 0.000</td> <td>-2699.160</td> <td>-1992.693</td>\n",
       "</tr>\n",
       "<tr>\n",
       "  <th>Unemployment</th> <td> -2.22e+04</td> <td> 3755.948</td> <td>   -5.910</td> <td> 0.000</td> <td>-2.96e+04</td> <td>-1.48e+04</td>\n",
       "</tr>\n",
       "<tr>\n",
       "  <th>Holiday_Flag</th> <td> 7.222e+04</td> <td> 2.59e+04</td> <td>    2.787</td> <td> 0.005</td> <td> 2.14e+04</td> <td> 1.23e+05</td>\n",
       "</tr>\n",
       "<tr>\n",
       "  <th>Temperature</th>  <td> -929.0252</td> <td>  369.081</td> <td>   -2.517</td> <td> 0.012</td> <td>-1652.547</td> <td> -205.503</td>\n",
       "</tr>\n",
       "</table>\n",
       "<table class=\"simpletable\">\n",
       "<tr>\n",
       "  <th>Omnibus:</th>       <td>188.685</td> <th>  Durbin-Watson:     </th> <td>   0.130</td>\n",
       "</tr>\n",
       "<tr>\n",
       "  <th>Prob(Omnibus):</th> <td> 0.000</td>  <th>  Jarque-Bera (JB):  </th> <td> 204.924</td>\n",
       "</tr>\n",
       "<tr>\n",
       "  <th>Skew:</th>          <td> 0.434</td>  <th>  Prob(JB):          </th> <td>3.17e-45</td>\n",
       "</tr>\n",
       "<tr>\n",
       "  <th>Kurtosis:</th>      <td> 3.100</td>  <th>  Cond. No.          </th> <td>1.46e+03</td>\n",
       "</tr>\n",
       "</table><br/><br/>Notes:<br/>[1] Standard Errors assume that the covariance matrix of the errors is correctly specified.<br/>[2] The condition number is large, 1.46e+03. This might indicate that there are<br/>strong multicollinearity or other numerical problems."
      ],
      "text/plain": [
       "<class 'statsmodels.iolib.summary.Summary'>\n",
       "\"\"\"\n",
       "                            OLS Regression Results                            \n",
       "==============================================================================\n",
       "Dep. Variable:           Weekly_Sales   R-squared:                       0.141\n",
       "Model:                            OLS   Adj. R-squared:                  0.141\n",
       "Method:                 Least Squares   F-statistic:                     211.9\n",
       "Date:                Sun, 09 Oct 2022   Prob (F-statistic):          7.51e-210\n",
       "Time:                        23:26:46   Log-Likelihood:                -93861.\n",
       "No. Observations:                6435   AIC:                         1.877e+05\n",
       "Df Residuals:                    6429   BIC:                         1.878e+05\n",
       "Df Model:                           5                                         \n",
       "Covariance Type:            nonrobust                                         \n",
       "================================================================================\n",
       "                   coef    std err          t      P>|t|      [0.025      0.975]\n",
       "--------------------------------------------------------------------------------\n",
       "Intercept     2.032e+06   5.07e+04     40.114      0.000    1.93e+06    2.13e+06\n",
       "Store        -1.537e+04    521.337    -29.488      0.000   -1.64e+04   -1.44e+04\n",
       "CPI          -2345.9264    180.191    -13.019      0.000   -2699.160   -1992.693\n",
       "Unemployment  -2.22e+04   3755.948     -5.910      0.000   -2.96e+04   -1.48e+04\n",
       "Holiday_Flag  7.222e+04   2.59e+04      2.787      0.005    2.14e+04    1.23e+05\n",
       "Temperature   -929.0252    369.081     -2.517      0.012   -1652.547    -205.503\n",
       "==============================================================================\n",
       "Omnibus:                      188.685   Durbin-Watson:                   0.130\n",
       "Prob(Omnibus):                  0.000   Jarque-Bera (JB):              204.924\n",
       "Skew:                           0.434   Prob(JB):                     3.17e-45\n",
       "Kurtosis:                       3.100   Cond. No.                     1.46e+03\n",
       "==============================================================================\n",
       "\n",
       "Notes:\n",
       "[1] Standard Errors assume that the covariance matrix of the errors is correctly specified.\n",
       "[2] The condition number is large, 1.46e+03. This might indicate that there are\n",
       "strong multicollinearity or other numerical problems.\n",
       "\"\"\""
      ]
     },
     "execution_count": 9,
     "metadata": {},
     "output_type": "execute_result"
    }
   ],
   "source": [
    "FS = smf.ols(formula = 'Weekly_Sales ~ Store + CPI + Unemployment + Holiday_Flag + Temperature',\n",
    "            data = df).fit()\n",
    "FS.summary()"
   ]
  },
  {
   "cell_type": "markdown",
   "id": "70cf7fa9",
   "metadata": {},
   "source": [
    "_Sigue habiendo presencia de multicolinealidad_\n",
    "\n",
    "__Detectar multicolinealidad calculando el VIF__\n",
    "* VIF con valores de 1 (_el menor valor de VIF_) significa que la variable predictora no se relaciona con las demás variables predictoras\n",
    "* Mientras más grande sea el VIF Mayor correlación tiene la variabe predictora con otras variables predictoras"
   ]
  },
  {
   "cell_type": "code",
   "execution_count": 10,
   "id": "7b1f8895",
   "metadata": {},
   "outputs": [
    {
     "data": {
      "text/html": [
       "<div>\n",
       "<style scoped>\n",
       "    .dataframe tbody tr th:only-of-type {\n",
       "        vertical-align: middle;\n",
       "    }\n",
       "\n",
       "    .dataframe tbody tr th {\n",
       "        vertical-align: top;\n",
       "    }\n",
       "\n",
       "    .dataframe thead th {\n",
       "        text-align: right;\n",
       "    }\n",
       "</style>\n",
       "<table border=\"1\" class=\"dataframe\">\n",
       "  <thead>\n",
       "    <tr style=\"text-align: right;\">\n",
       "      <th></th>\n",
       "      <th>feature</th>\n",
       "      <th>VIF</th>\n",
       "    </tr>\n",
       "  </thead>\n",
       "  <tbody>\n",
       "    <tr>\n",
       "      <th>3</th>\n",
       "      <td>Fuel_Price</td>\n",
       "      <td>27.496157</td>\n",
       "    </tr>\n",
       "    <tr>\n",
       "      <th>5</th>\n",
       "      <td>Unemployment</td>\n",
       "      <td>16.385614</td>\n",
       "    </tr>\n",
       "    <tr>\n",
       "      <th>4</th>\n",
       "      <td>CPI</td>\n",
       "      <td>14.935729</td>\n",
       "    </tr>\n",
       "    <tr>\n",
       "      <th>2</th>\n",
       "      <td>Temperature</td>\n",
       "      <td>13.382740</td>\n",
       "    </tr>\n",
       "    <tr>\n",
       "      <th>0</th>\n",
       "      <td>Store</td>\n",
       "      <td>4.403808</td>\n",
       "    </tr>\n",
       "    <tr>\n",
       "      <th>6</th>\n",
       "      <td>date_num</td>\n",
       "      <td>3.911741</td>\n",
       "    </tr>\n",
       "    <tr>\n",
       "      <th>1</th>\n",
       "      <td>Holiday_Flag</td>\n",
       "      <td>1.104054</td>\n",
       "    </tr>\n",
       "  </tbody>\n",
       "</table>\n",
       "</div>"
      ],
      "text/plain": [
       "        feature        VIF\n",
       "3    Fuel_Price  27.496157\n",
       "5  Unemployment  16.385614\n",
       "4           CPI  14.935729\n",
       "2   Temperature  13.382740\n",
       "0         Store   4.403808\n",
       "6      date_num   3.911741\n",
       "1  Holiday_Flag   1.104054"
      ]
     },
     "execution_count": 10,
     "metadata": {},
     "output_type": "execute_result"
    }
   ],
   "source": [
    "from statsmodels.stats.outliers_influence import variance_inflation_factor\n",
    "X_variables = df[['Store','Holiday_Flag','Temperature','Fuel_Price', 'CPI', 'Unemployment', 'date_num']]\n",
    "vif_data = pd.DataFrame()\n",
    "vif_data[\"feature\"] = X_variables.columns\n",
    "vif_data[\"VIF\"] = [variance_inflation_factor(X_variables.values, i) for i in range(len(X_variables.columns))]\n",
    "vif_data.sort_values(by = 'VIF', ascending = False)"
   ]
  },
  {
   "cell_type": "code",
   "execution_count": 11,
   "id": "7a9370f3",
   "metadata": {
    "scrolled": true
   },
   "outputs": [
    {
     "data": {
      "text/html": [
       "<table class=\"simpletable\">\n",
       "<caption>OLS Regression Results</caption>\n",
       "<tr>\n",
       "  <th>Dep. Variable:</th>      <td>Weekly_Sales</td>   <th>  R-squared:         </th> <td>   0.118</td> \n",
       "</tr>\n",
       "<tr>\n",
       "  <th>Model:</th>                   <td>OLS</td>       <th>  Adj. R-squared:    </th> <td>   0.118</td> \n",
       "</tr>\n",
       "<tr>\n",
       "  <th>Method:</th>             <td>Least Squares</td>  <th>  F-statistic:       </th> <td>   287.4</td> \n",
       "</tr>\n",
       "<tr>\n",
       "  <th>Date:</th>             <td>Sun, 09 Oct 2022</td> <th>  Prob (F-statistic):</th> <td>4.27e-175</td>\n",
       "</tr>\n",
       "<tr>\n",
       "  <th>Time:</th>                 <td>23:26:46</td>     <th>  Log-Likelihood:    </th> <td> -93947.</td> \n",
       "</tr>\n",
       "<tr>\n",
       "  <th>No. Observations:</th>      <td>  6435</td>      <th>  AIC:               </th> <td>1.879e+05</td>\n",
       "</tr>\n",
       "<tr>\n",
       "  <th>Df Residuals:</th>          <td>  6431</td>      <th>  BIC:               </th> <td>1.879e+05</td>\n",
       "</tr>\n",
       "<tr>\n",
       "  <th>Df Model:</th>              <td>     3</td>      <th>                     </th>     <td> </td>    \n",
       "</tr>\n",
       "<tr>\n",
       "  <th>Covariance Type:</th>      <td>nonrobust</td>    <th>                     </th>     <td> </td>    \n",
       "</tr>\n",
       "</table>\n",
       "<table class=\"simpletable\">\n",
       "<tr>\n",
       "        <td></td>          <th>coef</th>     <th>std err</th>      <th>t</th>      <th>P>|t|</th>  <th>[0.025</th>    <th>0.975]</th>  \n",
       "</tr>\n",
       "<tr>\n",
       "  <th>Intercept</th>    <td> 1.505e+06</td> <td> 2.63e+04</td> <td>   57.159</td> <td> 0.000</td> <td> 1.45e+06</td> <td> 1.56e+06</td>\n",
       "</tr>\n",
       "<tr>\n",
       "  <th>Store</th>        <td>-1.464e+04</td> <td>  508.938</td> <td>  -28.760</td> <td> 0.000</td> <td>-1.56e+04</td> <td>-1.36e+04</td>\n",
       "</tr>\n",
       "<tr>\n",
       "  <th>Holiday_Flag</th> <td> 5.852e+04</td> <td> 2.62e+04</td> <td>    2.231</td> <td> 0.026</td> <td> 7105.536</td> <td>  1.1e+05</td>\n",
       "</tr>\n",
       "<tr>\n",
       "  <th>Temperature</th>  <td>-2060.4647</td> <td>  362.763</td> <td>   -5.680</td> <td> 0.000</td> <td>-2771.602</td> <td>-1349.328</td>\n",
       "</tr>\n",
       "</table>\n",
       "<table class=\"simpletable\">\n",
       "<tr>\n",
       "  <th>Omnibus:</th>       <td>138.026</td> <th>  Durbin-Watson:     </th> <td>   0.126</td>\n",
       "</tr>\n",
       "<tr>\n",
       "  <th>Prob(Omnibus):</th> <td> 0.000</td>  <th>  Jarque-Bera (JB):  </th> <td> 146.686</td>\n",
       "</tr>\n",
       "<tr>\n",
       "  <th>Skew:</th>          <td> 0.370</td>  <th>  Prob(JB):          </th> <td>1.40e-32</td>\n",
       "</tr>\n",
       "<tr>\n",
       "  <th>Kurtosis:</th>      <td> 3.024</td>  <th>  Cond. No.          </th> <td>    293.</td>\n",
       "</tr>\n",
       "</table><br/><br/>Notes:<br/>[1] Standard Errors assume that the covariance matrix of the errors is correctly specified."
      ],
      "text/plain": [
       "<class 'statsmodels.iolib.summary.Summary'>\n",
       "\"\"\"\n",
       "                            OLS Regression Results                            \n",
       "==============================================================================\n",
       "Dep. Variable:           Weekly_Sales   R-squared:                       0.118\n",
       "Model:                            OLS   Adj. R-squared:                  0.118\n",
       "Method:                 Least Squares   F-statistic:                     287.4\n",
       "Date:                Sun, 09 Oct 2022   Prob (F-statistic):          4.27e-175\n",
       "Time:                        23:26:46   Log-Likelihood:                -93947.\n",
       "No. Observations:                6435   AIC:                         1.879e+05\n",
       "Df Residuals:                    6431   BIC:                         1.879e+05\n",
       "Df Model:                           3                                         \n",
       "Covariance Type:            nonrobust                                         \n",
       "================================================================================\n",
       "                   coef    std err          t      P>|t|      [0.025      0.975]\n",
       "--------------------------------------------------------------------------------\n",
       "Intercept     1.505e+06   2.63e+04     57.159      0.000    1.45e+06    1.56e+06\n",
       "Store        -1.464e+04    508.938    -28.760      0.000   -1.56e+04   -1.36e+04\n",
       "Holiday_Flag  5.852e+04   2.62e+04      2.231      0.026    7105.536     1.1e+05\n",
       "Temperature  -2060.4647    362.763     -5.680      0.000   -2771.602   -1349.328\n",
       "==============================================================================\n",
       "Omnibus:                      138.026   Durbin-Watson:                   0.126\n",
       "Prob(Omnibus):                  0.000   Jarque-Bera (JB):              146.686\n",
       "Skew:                           0.370   Prob(JB):                     1.40e-32\n",
       "Kurtosis:                       3.024   Cond. No.                         293.\n",
       "==============================================================================\n",
       "\n",
       "Notes:\n",
       "[1] Standard Errors assume that the covariance matrix of the errors is correctly specified.\n",
       "\"\"\""
      ]
     },
     "execution_count": 11,
     "metadata": {},
     "output_type": "execute_result"
    }
   ],
   "source": [
    "FS = smf.ols(formula = 'Weekly_Sales ~ Store + Holiday_Flag + Temperature', data = df).fit()\n",
    "FS.summary()"
   ]
  },
  {
   "cell_type": "markdown",
   "id": "a0555ed9",
   "metadata": {},
   "source": [
    "_Se logró __eliminar la multicolinealidad___\n",
    "\n",
    "__Las variables más importantes para explicar las ventas semanales son:__\n",
    "1. '_Store_'\n",
    "2. '_Temperature_'\n",
    "3. '_Holiday_Flag_'"
   ]
  },
  {
   "cell_type": "code",
   "execution_count": 12,
   "id": "7aa4cbf5",
   "metadata": {},
   "outputs": [
    {
     "name": "stdout",
     "output_type": "stream",
     "text": [
      "(6435, 3)\n",
      "(6435, 1)\n"
     ]
    }
   ],
   "source": [
    "# Escogemos las variables a usar\n",
    "x = df[['Store', 'Temperature', 'Holiday_Flag']] #-> doble corchete para tener la columna en datos de dos dimensiones (como los necesita python para la regresión)\n",
    "y = df[['Weekly_Sales']]\n",
    "print(x.shape)\n",
    "print(y.shape)"
   ]
  },
  {
   "cell_type": "code",
   "execution_count": 13,
   "id": "41510c92",
   "metadata": {},
   "outputs": [
    {
     "data": {
      "text/plain": [
       "((5148, 3), (1287, 3), (5148, 1), (1287, 1))"
      ]
     },
     "execution_count": 13,
     "metadata": {},
     "output_type": "execute_result"
    }
   ],
   "source": [
    "# Dividimos los datos en train y test\n",
    "x_train, x_test, y_train, y_test = train_test_split(x, y, test_size = 0.2, random_state = 0)\n",
    "\n",
    "#Ver los resultados\n",
    "x_train.shape, x_test.shape, y_train.shape, y_test.shape"
   ]
  },
  {
   "cell_type": "code",
   "execution_count": 14,
   "id": "75459dac",
   "metadata": {},
   "outputs": [
    {
     "data": {
      "text/html": [
       "<style>#sk-container-id-1 {color: black;background-color: white;}#sk-container-id-1 pre{padding: 0;}#sk-container-id-1 div.sk-toggleable {background-color: white;}#sk-container-id-1 label.sk-toggleable__label {cursor: pointer;display: block;width: 100%;margin-bottom: 0;padding: 0.3em;box-sizing: border-box;text-align: center;}#sk-container-id-1 label.sk-toggleable__label-arrow:before {content: \"▸\";float: left;margin-right: 0.25em;color: #696969;}#sk-container-id-1 label.sk-toggleable__label-arrow:hover:before {color: black;}#sk-container-id-1 div.sk-estimator:hover label.sk-toggleable__label-arrow:before {color: black;}#sk-container-id-1 div.sk-toggleable__content {max-height: 0;max-width: 0;overflow: hidden;text-align: left;background-color: #f0f8ff;}#sk-container-id-1 div.sk-toggleable__content pre {margin: 0.2em;color: black;border-radius: 0.25em;background-color: #f0f8ff;}#sk-container-id-1 input.sk-toggleable__control:checked~div.sk-toggleable__content {max-height: 200px;max-width: 100%;overflow: auto;}#sk-container-id-1 input.sk-toggleable__control:checked~label.sk-toggleable__label-arrow:before {content: \"▾\";}#sk-container-id-1 div.sk-estimator input.sk-toggleable__control:checked~label.sk-toggleable__label {background-color: #d4ebff;}#sk-container-id-1 div.sk-label input.sk-toggleable__control:checked~label.sk-toggleable__label {background-color: #d4ebff;}#sk-container-id-1 input.sk-hidden--visually {border: 0;clip: rect(1px 1px 1px 1px);clip: rect(1px, 1px, 1px, 1px);height: 1px;margin: -1px;overflow: hidden;padding: 0;position: absolute;width: 1px;}#sk-container-id-1 div.sk-estimator {font-family: monospace;background-color: #f0f8ff;border: 1px dotted black;border-radius: 0.25em;box-sizing: border-box;margin-bottom: 0.5em;}#sk-container-id-1 div.sk-estimator:hover {background-color: #d4ebff;}#sk-container-id-1 div.sk-parallel-item::after {content: \"\";width: 100%;border-bottom: 1px solid gray;flex-grow: 1;}#sk-container-id-1 div.sk-label:hover label.sk-toggleable__label {background-color: #d4ebff;}#sk-container-id-1 div.sk-serial::before {content: \"\";position: absolute;border-left: 1px solid gray;box-sizing: border-box;top: 0;bottom: 0;left: 50%;z-index: 0;}#sk-container-id-1 div.sk-serial {display: flex;flex-direction: column;align-items: center;background-color: white;padding-right: 0.2em;padding-left: 0.2em;position: relative;}#sk-container-id-1 div.sk-item {position: relative;z-index: 1;}#sk-container-id-1 div.sk-parallel {display: flex;align-items: stretch;justify-content: center;background-color: white;position: relative;}#sk-container-id-1 div.sk-item::before, #sk-container-id-1 div.sk-parallel-item::before {content: \"\";position: absolute;border-left: 1px solid gray;box-sizing: border-box;top: 0;bottom: 0;left: 50%;z-index: -1;}#sk-container-id-1 div.sk-parallel-item {display: flex;flex-direction: column;z-index: 1;position: relative;background-color: white;}#sk-container-id-1 div.sk-parallel-item:first-child::after {align-self: flex-end;width: 50%;}#sk-container-id-1 div.sk-parallel-item:last-child::after {align-self: flex-start;width: 50%;}#sk-container-id-1 div.sk-parallel-item:only-child::after {width: 0;}#sk-container-id-1 div.sk-dashed-wrapped {border: 1px dashed gray;margin: 0 0.4em 0.5em 0.4em;box-sizing: border-box;padding-bottom: 0.4em;background-color: white;}#sk-container-id-1 div.sk-label label {font-family: monospace;font-weight: bold;display: inline-block;line-height: 1.2em;}#sk-container-id-1 div.sk-label-container {text-align: center;}#sk-container-id-1 div.sk-container {/* jupyter's `normalize.less` sets `[hidden] { display: none; }` but bootstrap.min.css set `[hidden] { display: none !important; }` so we also need the `!important` here to be able to override the default hidden behavior on the sphinx rendered scikit-learn.org. See: https://github.com/scikit-learn/scikit-learn/issues/21755 */display: inline-block !important;position: relative;}#sk-container-id-1 div.sk-text-repr-fallback {display: none;}</style><div id=\"sk-container-id-1\" class=\"sk-top-container\"><div class=\"sk-text-repr-fallback\"><pre>LinearRegression()</pre><b>In a Jupyter environment, please rerun this cell to show the HTML representation or trust the notebook. <br />On GitHub, the HTML representation is unable to render, please try loading this page with nbviewer.org.</b></div><div class=\"sk-container\" hidden><div class=\"sk-item\"><div class=\"sk-estimator sk-toggleable\"><input class=\"sk-toggleable__control sk-hidden--visually\" id=\"sk-estimator-id-1\" type=\"checkbox\" checked><label for=\"sk-estimator-id-1\" class=\"sk-toggleable__label sk-toggleable__label-arrow\">LinearRegression</label><div class=\"sk-toggleable__content\"><pre>LinearRegression()</pre></div></div></div></div></div>"
      ],
      "text/plain": [
       "LinearRegression()"
      ]
     },
     "execution_count": 14,
     "metadata": {},
     "output_type": "execute_result"
    }
   ],
   "source": [
    "# Definimos el modelo de RLM\n",
    "RLM = LinearRegression()\n",
    "\n",
    "# Entrenamos el modelo\n",
    "RLM.fit(x_train, y_train)\n"
   ]
  },
  {
   "cell_type": "code",
   "execution_count": 15,
   "id": "b787f57c",
   "metadata": {},
   "outputs": [
    {
     "name": "stdout",
     "output_type": "stream",
     "text": [
      "[[ 957311.15127964]\n",
      " [ 892890.63880441]\n",
      " [1177198.21293455]\n",
      " [ 834237.33769904]\n",
      " [1043358.84443094]]\n"
     ]
    },
    {
     "data": {
      "text/html": [
       "<div>\n",
       "<style scoped>\n",
       "    .dataframe tbody tr th:only-of-type {\n",
       "        vertical-align: middle;\n",
       "    }\n",
       "\n",
       "    .dataframe tbody tr th {\n",
       "        vertical-align: top;\n",
       "    }\n",
       "\n",
       "    .dataframe thead th {\n",
       "        text-align: right;\n",
       "    }\n",
       "</style>\n",
       "<table border=\"1\" class=\"dataframe\">\n",
       "  <thead>\n",
       "    <tr style=\"text-align: right;\">\n",
       "      <th></th>\n",
       "      <th>Weekly_Sales</th>\n",
       "    </tr>\n",
       "  </thead>\n",
       "  <tbody>\n",
       "    <tr>\n",
       "      <th>3949</th>\n",
       "      <td>1220984.94</td>\n",
       "    </tr>\n",
       "    <tr>\n",
       "      <th>4555</th>\n",
       "      <td>1246322.44</td>\n",
       "    </tr>\n",
       "    <tr>\n",
       "      <th>2235</th>\n",
       "      <td>505918.21</td>\n",
       "    </tr>\n",
       "    <tr>\n",
       "      <th>5204</th>\n",
       "      <td>527572.25</td>\n",
       "    </tr>\n",
       "    <tr>\n",
       "      <th>3524</th>\n",
       "      <td>719235.07</td>\n",
       "    </tr>\n",
       "  </tbody>\n",
       "</table>\n",
       "</div>"
      ],
      "text/plain": [
       "      Weekly_Sales\n",
       "3949    1220984.94\n",
       "4555    1246322.44\n",
       "2235     505918.21\n",
       "5204     527572.25\n",
       "3524     719235.07"
      ]
     },
     "execution_count": 15,
     "metadata": {},
     "output_type": "execute_result"
    }
   ],
   "source": [
    "# Validación visual\n",
    "y_pred_test = RLM.predict(x_test)\n",
    "print(y_pred_test[0:5])\n",
    "y_test.head()"
   ]
  },
  {
   "cell_type": "markdown",
   "id": "577bdb34",
   "metadata": {},
   "source": [
    "__Evaluamos el modelo:__"
   ]
  },
  {
   "cell_type": "code",
   "execution_count": 16,
   "id": "c929e073",
   "metadata": {},
   "outputs": [
    {
     "name": "stdout",
     "output_type": "stream",
     "text": [
      "R2 train = 0.11\n",
      "R2 test = 0.14\n",
      "Diferencia =  3.352%\n"
     ]
    }
   ],
   "source": [
    "# Obtieniento el R2 de train\n",
    "R2_train = RLM.score(x_train,y_train)\n",
    "print(\"R2 train = {:.2f}\".format(R2_train))\n",
    "\n",
    "# Obtieniento el R2 de test\n",
    "R2_test = RLM.score(x_test,y_test)\n",
    "print(\"R2 test = {:.2f}\".format(R2_test))\n",
    "\n",
    "# Diferencia\n",
    "dif = '{:.4}%'.format(np.abs(R2_train - R2_test)*100)\n",
    "print(\"Diferencia = \",dif)"
   ]
  },
  {
   "cell_type": "markdown",
   "id": "e593aff7",
   "metadata": {},
   "source": [
    "_¡El modelo __no__ tiene overfitting!_\n",
    "\n",
    "__Precisión del modelo:__"
   ]
  },
  {
   "cell_type": "code",
   "execution_count": 17,
   "id": "f6687758",
   "metadata": {},
   "outputs": [
    {
     "name": "stdout",
     "output_type": "stream",
     "text": [
      "MAPE de train = 6.2e+01%\n",
      "MSE de train = 4.4e+05\n",
      "RMSE de train = 6.6e+02\n",
      "\n",
      "MAPE de test = 6e+01%\n",
      "MSE de test = 4.2e+05\n",
      "RMSE de test = 6.5e+02\n"
     ]
    }
   ],
   "source": [
    "# Obtener el y_pred_train\n",
    "y_pred_train = RLM.predict(x_train)\n",
    "\n",
    "# Calculamos los errores de train\n",
    "mape_train = mape(y_train, y_pred_train)*100\n",
    "mse_train = mse(y_train, y_pred_train)\n",
    "rmse_train = np.sqrt(mse_train)\n",
    "\n",
    "# Calculamos los errores de test\n",
    "mape_test = mape(y_test, y_pred_test)*100\n",
    "mse_test = mse(y_test, y_pred_test)\n",
    "rmse_test = np.sqrt(mse_test)\n",
    "\n",
    "print(\"MAPE de train = {:.2}%\".format(mape_train))\n",
    "print(\"MSE de train = {:.2}\".format(mse_train))\n",
    "print(\"RMSE de train = {:.2}\".format(rmse_train))\n",
    "print(\"\")\n",
    "print(\"MAPE de test = {:.2}%\".format(mape_test))\n",
    "print(\"MSE de test = {:.2}\".format(mse_test))\n",
    "print(\"RMSE de test = {:.2}\".format(rmse_test))"
   ]
  },
  {
   "cell_type": "markdown",
   "id": "46c8f7e6",
   "metadata": {},
   "source": [
    "__Datos del modelo:__"
   ]
  },
  {
   "cell_type": "code",
   "execution_count": 18,
   "id": "5489969c",
   "metadata": {},
   "outputs": [
    {
     "name": "stdout",
     "output_type": "stream",
     "text": [
      "Datos del modelo de Regresión Lineal Múltiple\n",
      "\n",
      "B0 = 1.49e+06\n",
      "B1 = -1.43e+04\n",
      "B2 = -1.92e+03\n",
      "B3 = 5.35e+04\n",
      "\n",
      "La ecuacón del modelo es:\n",
      "y_pred = 1.49e+06 + -1.43e+04x1 + -1.92e+03x2 + 5.35e+04x3\n"
     ]
    }
   ],
   "source": [
    "print(\"Datos del modelo de Regresión Lineal Múltiple\")\n",
    "print()\n",
    "print(\"B0 = {:.3}\".format(RLM.intercept_[0]))\n",
    "print(\"B1 = {:.3}\".format(RLM.coef_[0][0]))\n",
    "print(\"B2 = {:.3}\".format(RLM.coef_[0][1]))\n",
    "print(\"B3 = {:.3}\".format(RLM.coef_[0][2]))\n",
    "print()\n",
    "print(\"La ecuacón del modelo es:\")\n",
    "print(\"y_pred = {:.3} + {:.3}x1 + {:.3}x2 + {:.3}x3\".format(RLM.intercept_[0], RLM.coef_[0][0], RLM.coef_[0][1], RLM.coef_[0][2]))"
   ]
  },
  {
   "cell_type": "markdown",
   "id": "0d364c14",
   "metadata": {},
   "source": [
    "Lasso\n",
    "=\n",
    "**L**east **A**bsolute **S**hrinkage and **S**election **O**perator"
   ]
  },
  {
   "cell_type": "code",
   "execution_count": 19,
   "id": "1f00372c",
   "metadata": {},
   "outputs": [],
   "source": [
    "from sklearn.linear_model import Lasso"
   ]
  },
  {
   "cell_type": "code",
   "execution_count": 20,
   "id": "a994cc2e",
   "metadata": {},
   "outputs": [],
   "source": [
    "df_lasso = pd.read_csv(\"Walmart.csv\")\n",
    "df_lasso['date_num'] = df_lasso['Date'].astype('category').cat.codes"
   ]
  },
  {
   "cell_type": "code",
   "execution_count": 21,
   "id": "411f1395",
   "metadata": {},
   "outputs": [
    {
     "name": "stdout",
     "output_type": "stream",
     "text": [
      "(6435, 7)\n",
      "(6435,)\n"
     ]
    }
   ],
   "source": [
    "x_lasso = df_lasso.drop(columns=['Weekly_Sales','Date'])\n",
    "y_lasso = df_lasso['Weekly_Sales']\n",
    "print(x_lasso.shape)\n",
    "print(y_lasso.shape)"
   ]
  },
  {
   "cell_type": "code",
   "execution_count": 22,
   "id": "5f9bbf8c",
   "metadata": {},
   "outputs": [
    {
     "data": {
      "text/plain": [
       "((5148, 3), (1287, 3), (5148, 1), (1287, 1))"
      ]
     },
     "execution_count": 22,
     "metadata": {},
     "output_type": "execute_result"
    }
   ],
   "source": [
    "# Dividir los datos en train y test\n",
    "x_train_lasso, x_test_lasso, y_train_lasso, y_test_lasso = train_test_split(x, y, test_size = 0.2, random_state = 0)\n",
    "x_train_lasso.shape, x_test_lasso.shape, y_train_lasso.shape, y_test_lasso.shape"
   ]
  },
  {
   "cell_type": "code",
   "execution_count": 23,
   "id": "f93131c0",
   "metadata": {},
   "outputs": [
    {
     "name": "stdout",
     "output_type": "stream",
     "text": [
      "[30.0, 30.25, 30.5, 30.75, 31.0, 31.25, 31.5, 31.75, 32.0, 32.25, 32.5, 32.75, 33.0, 33.25, 33.5, 33.75, 34.0, 34.25, 34.5, 34.75, 35.0, 35.25, 35.5, 35.75, 36.0, 36.25, 36.5, 36.75, 37.0, 37.25, 37.5, 37.75, 38.0, 38.25, 38.5, 38.75, 39.0, 39.25, 39.5, 39.75, 40.0, 40.25, 40.5, 40.75, 41.0, 41.25, 41.5, 41.75, 42.0, 42.25, 42.5, 42.75, 43.0, 43.25, 43.5, 43.75, 44.0, 44.25, 44.5, 44.75, 45.0, 45.25, 45.5, 45.75, 46.0, 46.25, 46.5, 46.75, 47.0, 47.25, 47.5, 47.75, 48.0, 48.25, 48.5, 48.75, 49.0, 49.25, 49.5, 49.75, 50.0, 50.25, 50.5, 50.75, 51.0, 51.25, 51.5, 51.75, 52.0, 52.25, 52.5, 52.75, 53.0, 53.25, 53.5, 53.75, 54.0, 54.25, 54.5, 54.75, 55.0, 55.25, 55.5, 55.75, 56.0, 56.25, 56.5, 56.75, 57.0, 57.25, 57.5, 57.75, 58.0, 58.25, 58.5, 58.75, 59.0, 59.25, 59.5, 59.75, 60.0, 60.25, 60.5, 60.75, 61.0, 61.25, 61.5, 61.75, 62.0, 62.25, 62.5, 62.75, 63.0, 63.25, 63.5, 63.75, 64.0, 64.25, 64.5, 64.75, 65.0, 65.25, 65.5, 65.75, 66.0, 66.25, 66.5, 66.75, 67.0, 67.25, 67.5, 67.75, 68.0, 68.25, 68.5, 68.75, 69.0, 69.25, 69.5, 69.75, 70.0, 70.25, 70.5, 70.75, 71.0, 71.25, 71.5, 71.75, 72.0, 72.25, 72.5, 72.75, 73.0, 73.25, 73.5, 73.75, 74.0, 74.25, 74.5, 74.75, 75.0, 75.25, 75.5, 75.75, 76.0, 76.25, 76.5, 76.75, 77.0, 77.25, 77.5, 77.75, 78.0, 78.25, 78.5, 78.75, 79.0, 79.25, 79.5, 79.75, 80.0, 80.25, 80.5, 80.75, 81.0, 81.25, 81.5, 81.75, 82.0, 82.25, 82.5, 82.75, 83.0, 83.25, 83.5, 83.75, 84.0, 84.25, 84.5, 84.75, 85.0, 85.25, 85.5, 85.75, 86.0, 86.25, 86.5, 86.75, 87.0, 87.25, 87.5, 87.75, 88.0, 88.25, 88.5, 88.75, 89.0, 89.25, 89.5, 89.75, 90.0, 90.25, 90.5, 90.75, 91.0, 91.25, 91.5, 91.75, 92.0, 92.25, 92.5, 92.75, 93.0, 93.25, 93.5, 93.75, 94.0, 94.25, 94.5, 94.75, 95.0, 95.25, 95.5, 95.75, 96.0, 96.25, 96.5, 96.75, 97.0, 97.25, 97.5, 97.75, 98.0, 98.25, 98.5, 98.75, 99.0, 99.25, 99.5, 99.75, 100.0]\n",
      "[1, 2, 3, 4, 5, 6, 7, 8, 9, 10, 11, 12, 13, 14, 15, 16, 17, 18, 19, 20, 21, 22, 23, 24, 25, 26, 27, 28, 29, 30, 31, 32, 33, 34, 35, 36, 37, 38, 39, 40, 41, 42, 43, 44, 45, 46, 47, 48, 49]\n"
     ]
    }
   ],
   "source": [
    "# Definir el rango de variación de los parámetros\n",
    "param_range = {'alpha': np.arange(30, 100.25, 0.25),\n",
    "               'max_iter': range(1, 50, 1)}\n",
    "\n",
    "# Veamos los rangos a usar\n",
    "print(list(param_range['alpha']))\n",
    "print(list(param_range['max_iter']))"
   ]
  },
  {
   "cell_type": "markdown",
   "id": "fc4bb782",
   "metadata": {},
   "source": [
    "### Optimización de Hiperparámetros - Lasso"
   ]
  },
  {
   "cell_type": "code",
   "execution_count": 24,
   "id": "71680545",
   "metadata": {},
   "outputs": [
    {
     "name": "stdout",
     "output_type": "stream",
     "text": [
      "Fitting 3 folds for each of 13769 candidates, totalling 41307 fits\n"
     ]
    },
    {
     "name": "stderr",
     "output_type": "stream",
     "text": [
      "C:\\ProgramData\\Anaconda3\\lib\\site-packages\\sklearn\\linear_model\\_coordinate_descent.py:648: ConvergenceWarning: Objective did not converge. You might want to increase the number of iterations, check the scale of the features or consider increasing regularisation. Duality gap: 7.268e+14, tolerance: 1.642e+11\n",
      "  model = cd_fast.enet_coordinate_descent(\n"
     ]
    },
    {
     "data": {
      "text/html": [
       "<style>#sk-container-id-2 {color: black;background-color: white;}#sk-container-id-2 pre{padding: 0;}#sk-container-id-2 div.sk-toggleable {background-color: white;}#sk-container-id-2 label.sk-toggleable__label {cursor: pointer;display: block;width: 100%;margin-bottom: 0;padding: 0.3em;box-sizing: border-box;text-align: center;}#sk-container-id-2 label.sk-toggleable__label-arrow:before {content: \"▸\";float: left;margin-right: 0.25em;color: #696969;}#sk-container-id-2 label.sk-toggleable__label-arrow:hover:before {color: black;}#sk-container-id-2 div.sk-estimator:hover label.sk-toggleable__label-arrow:before {color: black;}#sk-container-id-2 div.sk-toggleable__content {max-height: 0;max-width: 0;overflow: hidden;text-align: left;background-color: #f0f8ff;}#sk-container-id-2 div.sk-toggleable__content pre {margin: 0.2em;color: black;border-radius: 0.25em;background-color: #f0f8ff;}#sk-container-id-2 input.sk-toggleable__control:checked~div.sk-toggleable__content {max-height: 200px;max-width: 100%;overflow: auto;}#sk-container-id-2 input.sk-toggleable__control:checked~label.sk-toggleable__label-arrow:before {content: \"▾\";}#sk-container-id-2 div.sk-estimator input.sk-toggleable__control:checked~label.sk-toggleable__label {background-color: #d4ebff;}#sk-container-id-2 div.sk-label input.sk-toggleable__control:checked~label.sk-toggleable__label {background-color: #d4ebff;}#sk-container-id-2 input.sk-hidden--visually {border: 0;clip: rect(1px 1px 1px 1px);clip: rect(1px, 1px, 1px, 1px);height: 1px;margin: -1px;overflow: hidden;padding: 0;position: absolute;width: 1px;}#sk-container-id-2 div.sk-estimator {font-family: monospace;background-color: #f0f8ff;border: 1px dotted black;border-radius: 0.25em;box-sizing: border-box;margin-bottom: 0.5em;}#sk-container-id-2 div.sk-estimator:hover {background-color: #d4ebff;}#sk-container-id-2 div.sk-parallel-item::after {content: \"\";width: 100%;border-bottom: 1px solid gray;flex-grow: 1;}#sk-container-id-2 div.sk-label:hover label.sk-toggleable__label {background-color: #d4ebff;}#sk-container-id-2 div.sk-serial::before {content: \"\";position: absolute;border-left: 1px solid gray;box-sizing: border-box;top: 0;bottom: 0;left: 50%;z-index: 0;}#sk-container-id-2 div.sk-serial {display: flex;flex-direction: column;align-items: center;background-color: white;padding-right: 0.2em;padding-left: 0.2em;position: relative;}#sk-container-id-2 div.sk-item {position: relative;z-index: 1;}#sk-container-id-2 div.sk-parallel {display: flex;align-items: stretch;justify-content: center;background-color: white;position: relative;}#sk-container-id-2 div.sk-item::before, #sk-container-id-2 div.sk-parallel-item::before {content: \"\";position: absolute;border-left: 1px solid gray;box-sizing: border-box;top: 0;bottom: 0;left: 50%;z-index: -1;}#sk-container-id-2 div.sk-parallel-item {display: flex;flex-direction: column;z-index: 1;position: relative;background-color: white;}#sk-container-id-2 div.sk-parallel-item:first-child::after {align-self: flex-end;width: 50%;}#sk-container-id-2 div.sk-parallel-item:last-child::after {align-self: flex-start;width: 50%;}#sk-container-id-2 div.sk-parallel-item:only-child::after {width: 0;}#sk-container-id-2 div.sk-dashed-wrapped {border: 1px dashed gray;margin: 0 0.4em 0.5em 0.4em;box-sizing: border-box;padding-bottom: 0.4em;background-color: white;}#sk-container-id-2 div.sk-label label {font-family: monospace;font-weight: bold;display: inline-block;line-height: 1.2em;}#sk-container-id-2 div.sk-label-container {text-align: center;}#sk-container-id-2 div.sk-container {/* jupyter's `normalize.less` sets `[hidden] { display: none; }` but bootstrap.min.css set `[hidden] { display: none !important; }` so we also need the `!important` here to be able to override the default hidden behavior on the sphinx rendered scikit-learn.org. See: https://github.com/scikit-learn/scikit-learn/issues/21755 */display: inline-block !important;position: relative;}#sk-container-id-2 div.sk-text-repr-fallback {display: none;}</style><div id=\"sk-container-id-2\" class=\"sk-top-container\"><div class=\"sk-text-repr-fallback\"><pre>GridSearchCV(cv=3, estimator=Lasso(random_state=0), n_jobs=-1,\n",
       "             param_grid={&#x27;alpha&#x27;: array([ 30.  ,  30.25,  30.5 ,  30.75,  31.  ,  31.25,  31.5 ,  31.75,\n",
       "        32.  ,  32.25,  32.5 ,  32.75,  33.  ,  33.25,  33.5 ,  33.75,\n",
       "        34.  ,  34.25,  34.5 ,  34.75,  35.  ,  35.25,  35.5 ,  35.75,\n",
       "        36.  ,  36.25,  36.5 ,  36.75,  37.  ,  37.25,  37.5 ,  37.75,\n",
       "        38.  ,  38.25,  38.5 ,  38.75,  39.  ,  39.25,  39.5 ,  39.75,\n",
       "        40.  ,  40.25,  40.5 ,  40.75,  41.  ,  41.25,  41.5 ,  41.75,\n",
       "        42.  ,  42.25,  4...\n",
       "        84.  ,  84.25,  84.5 ,  84.75,  85.  ,  85.25,  85.5 ,  85.75,\n",
       "        86.  ,  86.25,  86.5 ,  86.75,  87.  ,  87.25,  87.5 ,  87.75,\n",
       "        88.  ,  88.25,  88.5 ,  88.75,  89.  ,  89.25,  89.5 ,  89.75,\n",
       "        90.  ,  90.25,  90.5 ,  90.75,  91.  ,  91.25,  91.5 ,  91.75,\n",
       "        92.  ,  92.25,  92.5 ,  92.75,  93.  ,  93.25,  93.5 ,  93.75,\n",
       "        94.  ,  94.25,  94.5 ,  94.75,  95.  ,  95.25,  95.5 ,  95.75,\n",
       "        96.  ,  96.25,  96.5 ,  96.75,  97.  ,  97.25,  97.5 ,  97.75,\n",
       "        98.  ,  98.25,  98.5 ,  98.75,  99.  ,  99.25,  99.5 ,  99.75,\n",
       "       100.  ]),\n",
       "                         &#x27;max_iter&#x27;: range(1, 50)},\n",
       "             verbose=4)</pre><b>In a Jupyter environment, please rerun this cell to show the HTML representation or trust the notebook. <br />On GitHub, the HTML representation is unable to render, please try loading this page with nbviewer.org.</b></div><div class=\"sk-container\" hidden><div class=\"sk-item sk-dashed-wrapped\"><div class=\"sk-label-container\"><div class=\"sk-label sk-toggleable\"><input class=\"sk-toggleable__control sk-hidden--visually\" id=\"sk-estimator-id-2\" type=\"checkbox\" ><label for=\"sk-estimator-id-2\" class=\"sk-toggleable__label sk-toggleable__label-arrow\">GridSearchCV</label><div class=\"sk-toggleable__content\"><pre>GridSearchCV(cv=3, estimator=Lasso(random_state=0), n_jobs=-1,\n",
       "             param_grid={&#x27;alpha&#x27;: array([ 30.  ,  30.25,  30.5 ,  30.75,  31.  ,  31.25,  31.5 ,  31.75,\n",
       "        32.  ,  32.25,  32.5 ,  32.75,  33.  ,  33.25,  33.5 ,  33.75,\n",
       "        34.  ,  34.25,  34.5 ,  34.75,  35.  ,  35.25,  35.5 ,  35.75,\n",
       "        36.  ,  36.25,  36.5 ,  36.75,  37.  ,  37.25,  37.5 ,  37.75,\n",
       "        38.  ,  38.25,  38.5 ,  38.75,  39.  ,  39.25,  39.5 ,  39.75,\n",
       "        40.  ,  40.25,  40.5 ,  40.75,  41.  ,  41.25,  41.5 ,  41.75,\n",
       "        42.  ,  42.25,  4...\n",
       "        84.  ,  84.25,  84.5 ,  84.75,  85.  ,  85.25,  85.5 ,  85.75,\n",
       "        86.  ,  86.25,  86.5 ,  86.75,  87.  ,  87.25,  87.5 ,  87.75,\n",
       "        88.  ,  88.25,  88.5 ,  88.75,  89.  ,  89.25,  89.5 ,  89.75,\n",
       "        90.  ,  90.25,  90.5 ,  90.75,  91.  ,  91.25,  91.5 ,  91.75,\n",
       "        92.  ,  92.25,  92.5 ,  92.75,  93.  ,  93.25,  93.5 ,  93.75,\n",
       "        94.  ,  94.25,  94.5 ,  94.75,  95.  ,  95.25,  95.5 ,  95.75,\n",
       "        96.  ,  96.25,  96.5 ,  96.75,  97.  ,  97.25,  97.5 ,  97.75,\n",
       "        98.  ,  98.25,  98.5 ,  98.75,  99.  ,  99.25,  99.5 ,  99.75,\n",
       "       100.  ]),\n",
       "                         &#x27;max_iter&#x27;: range(1, 50)},\n",
       "             verbose=4)</pre></div></div></div><div class=\"sk-parallel\"><div class=\"sk-parallel-item\"><div class=\"sk-item\"><div class=\"sk-label-container\"><div class=\"sk-label sk-toggleable\"><input class=\"sk-toggleable__control sk-hidden--visually\" id=\"sk-estimator-id-3\" type=\"checkbox\" ><label for=\"sk-estimator-id-3\" class=\"sk-toggleable__label sk-toggleable__label-arrow\">estimator: Lasso</label><div class=\"sk-toggleable__content\"><pre>Lasso(random_state=0)</pre></div></div></div><div class=\"sk-serial\"><div class=\"sk-item\"><div class=\"sk-estimator sk-toggleable\"><input class=\"sk-toggleable__control sk-hidden--visually\" id=\"sk-estimator-id-4\" type=\"checkbox\" ><label for=\"sk-estimator-id-4\" class=\"sk-toggleable__label sk-toggleable__label-arrow\">Lasso</label><div class=\"sk-toggleable__content\"><pre>Lasso(random_state=0)</pre></div></div></div></div></div></div></div></div></div></div>"
      ],
      "text/plain": [
       "GridSearchCV(cv=3, estimator=Lasso(random_state=0), n_jobs=-1,\n",
       "             param_grid={'alpha': array([ 30.  ,  30.25,  30.5 ,  30.75,  31.  ,  31.25,  31.5 ,  31.75,\n",
       "        32.  ,  32.25,  32.5 ,  32.75,  33.  ,  33.25,  33.5 ,  33.75,\n",
       "        34.  ,  34.25,  34.5 ,  34.75,  35.  ,  35.25,  35.5 ,  35.75,\n",
       "        36.  ,  36.25,  36.5 ,  36.75,  37.  ,  37.25,  37.5 ,  37.75,\n",
       "        38.  ,  38.25,  38.5 ,  38.75,  39.  ,  39.25,  39.5 ,  39.75,\n",
       "        40.  ,  40.25,  40.5 ,  40.75,  41.  ,  41.25,  41.5 ,  41.75,\n",
       "        42.  ,  42.25,  4...\n",
       "        84.  ,  84.25,  84.5 ,  84.75,  85.  ,  85.25,  85.5 ,  85.75,\n",
       "        86.  ,  86.25,  86.5 ,  86.75,  87.  ,  87.25,  87.5 ,  87.75,\n",
       "        88.  ,  88.25,  88.5 ,  88.75,  89.  ,  89.25,  89.5 ,  89.75,\n",
       "        90.  ,  90.25,  90.5 ,  90.75,  91.  ,  91.25,  91.5 ,  91.75,\n",
       "        92.  ,  92.25,  92.5 ,  92.75,  93.  ,  93.25,  93.5 ,  93.75,\n",
       "        94.  ,  94.25,  94.5 ,  94.75,  95.  ,  95.25,  95.5 ,  95.75,\n",
       "        96.  ,  96.25,  96.5 ,  96.75,  97.  ,  97.25,  97.5 ,  97.75,\n",
       "        98.  ,  98.25,  98.5 ,  98.75,  99.  ,  99.25,  99.5 ,  99.75,\n",
       "       100.  ]),\n",
       "                         'max_iter': range(1, 50)},\n",
       "             verbose=4)"
      ]
     },
     "execution_count": 24,
     "metadata": {},
     "output_type": "execute_result"
    }
   ],
   "source": [
    "# Definir el optimizador\n",
    "rsearch_lasso = GridSearchCV(Lasso(random_state = 0),\n",
    "                             param_range,\n",
    "                             n_jobs = -1 , # Usa todos los nucleos\n",
    "                             verbose = 4,\n",
    "                             cv = 3)\n",
    "# Optimizamos\n",
    "rsearch_lasso.fit(x_train_lasso,y_train_lasso)"
   ]
  },
  {
   "cell_type": "code",
   "execution_count": 25,
   "id": "989e4abc",
   "metadata": {},
   "outputs": [
    {
     "name": "stdout",
     "output_type": "stream",
     "text": [
      "R2_primdio =  0.10858687583326491\n",
      "Mejor modelo = Lasso(alpha=77.75, max_iter=1, random_state=0)\n",
      "Mejores parámatros =  {'alpha': 77.75, 'max_iter': 1}\n"
     ]
    }
   ],
   "source": [
    "# Veamos los resultados\n",
    "print('R2_primdio = ', rsearch_lasso.best_score_)\n",
    "print('Mejor modelo =', rsearch_lasso.best_estimator_)\n",
    "print('Mejores parámatros = ', rsearch_lasso.best_params_)"
   ]
  },
  {
   "cell_type": "code",
   "execution_count": 26,
   "id": "fedd5855",
   "metadata": {},
   "outputs": [
    {
     "name": "stderr",
     "output_type": "stream",
     "text": [
      "C:\\ProgramData\\Anaconda3\\lib\\site-packages\\sklearn\\linear_model\\_coordinate_descent.py:648: ConvergenceWarning: Objective did not converge. You might want to increase the number of iterations, check the scale of the features or consider increasing regularisation. Duality gap: 7.268e+14, tolerance: 1.642e+11\n",
      "  model = cd_fast.enet_coordinate_descent(\n"
     ]
    },
    {
     "data": {
      "text/html": [
       "<style>#sk-container-id-3 {color: black;background-color: white;}#sk-container-id-3 pre{padding: 0;}#sk-container-id-3 div.sk-toggleable {background-color: white;}#sk-container-id-3 label.sk-toggleable__label {cursor: pointer;display: block;width: 100%;margin-bottom: 0;padding: 0.3em;box-sizing: border-box;text-align: center;}#sk-container-id-3 label.sk-toggleable__label-arrow:before {content: \"▸\";float: left;margin-right: 0.25em;color: #696969;}#sk-container-id-3 label.sk-toggleable__label-arrow:hover:before {color: black;}#sk-container-id-3 div.sk-estimator:hover label.sk-toggleable__label-arrow:before {color: black;}#sk-container-id-3 div.sk-toggleable__content {max-height: 0;max-width: 0;overflow: hidden;text-align: left;background-color: #f0f8ff;}#sk-container-id-3 div.sk-toggleable__content pre {margin: 0.2em;color: black;border-radius: 0.25em;background-color: #f0f8ff;}#sk-container-id-3 input.sk-toggleable__control:checked~div.sk-toggleable__content {max-height: 200px;max-width: 100%;overflow: auto;}#sk-container-id-3 input.sk-toggleable__control:checked~label.sk-toggleable__label-arrow:before {content: \"▾\";}#sk-container-id-3 div.sk-estimator input.sk-toggleable__control:checked~label.sk-toggleable__label {background-color: #d4ebff;}#sk-container-id-3 div.sk-label input.sk-toggleable__control:checked~label.sk-toggleable__label {background-color: #d4ebff;}#sk-container-id-3 input.sk-hidden--visually {border: 0;clip: rect(1px 1px 1px 1px);clip: rect(1px, 1px, 1px, 1px);height: 1px;margin: -1px;overflow: hidden;padding: 0;position: absolute;width: 1px;}#sk-container-id-3 div.sk-estimator {font-family: monospace;background-color: #f0f8ff;border: 1px dotted black;border-radius: 0.25em;box-sizing: border-box;margin-bottom: 0.5em;}#sk-container-id-3 div.sk-estimator:hover {background-color: #d4ebff;}#sk-container-id-3 div.sk-parallel-item::after {content: \"\";width: 100%;border-bottom: 1px solid gray;flex-grow: 1;}#sk-container-id-3 div.sk-label:hover label.sk-toggleable__label {background-color: #d4ebff;}#sk-container-id-3 div.sk-serial::before {content: \"\";position: absolute;border-left: 1px solid gray;box-sizing: border-box;top: 0;bottom: 0;left: 50%;z-index: 0;}#sk-container-id-3 div.sk-serial {display: flex;flex-direction: column;align-items: center;background-color: white;padding-right: 0.2em;padding-left: 0.2em;position: relative;}#sk-container-id-3 div.sk-item {position: relative;z-index: 1;}#sk-container-id-3 div.sk-parallel {display: flex;align-items: stretch;justify-content: center;background-color: white;position: relative;}#sk-container-id-3 div.sk-item::before, #sk-container-id-3 div.sk-parallel-item::before {content: \"\";position: absolute;border-left: 1px solid gray;box-sizing: border-box;top: 0;bottom: 0;left: 50%;z-index: -1;}#sk-container-id-3 div.sk-parallel-item {display: flex;flex-direction: column;z-index: 1;position: relative;background-color: white;}#sk-container-id-3 div.sk-parallel-item:first-child::after {align-self: flex-end;width: 50%;}#sk-container-id-3 div.sk-parallel-item:last-child::after {align-self: flex-start;width: 50%;}#sk-container-id-3 div.sk-parallel-item:only-child::after {width: 0;}#sk-container-id-3 div.sk-dashed-wrapped {border: 1px dashed gray;margin: 0 0.4em 0.5em 0.4em;box-sizing: border-box;padding-bottom: 0.4em;background-color: white;}#sk-container-id-3 div.sk-label label {font-family: monospace;font-weight: bold;display: inline-block;line-height: 1.2em;}#sk-container-id-3 div.sk-label-container {text-align: center;}#sk-container-id-3 div.sk-container {/* jupyter's `normalize.less` sets `[hidden] { display: none; }` but bootstrap.min.css set `[hidden] { display: none !important; }` so we also need the `!important` here to be able to override the default hidden behavior on the sphinx rendered scikit-learn.org. See: https://github.com/scikit-learn/scikit-learn/issues/21755 */display: inline-block !important;position: relative;}#sk-container-id-3 div.sk-text-repr-fallback {display: none;}</style><div id=\"sk-container-id-3\" class=\"sk-top-container\"><div class=\"sk-text-repr-fallback\"><pre>Lasso(alpha=77.75, max_iter=1, random_state=0)</pre><b>In a Jupyter environment, please rerun this cell to show the HTML representation or trust the notebook. <br />On GitHub, the HTML representation is unable to render, please try loading this page with nbviewer.org.</b></div><div class=\"sk-container\" hidden><div class=\"sk-item\"><div class=\"sk-estimator sk-toggleable\"><input class=\"sk-toggleable__control sk-hidden--visually\" id=\"sk-estimator-id-5\" type=\"checkbox\" checked><label for=\"sk-estimator-id-5\" class=\"sk-toggleable__label sk-toggleable__label-arrow\">Lasso</label><div class=\"sk-toggleable__content\"><pre>Lasso(alpha=77.75, max_iter=1, random_state=0)</pre></div></div></div></div></div>"
      ],
      "text/plain": [
       "Lasso(alpha=77.75, max_iter=1, random_state=0)"
      ]
     },
     "execution_count": 26,
     "metadata": {},
     "output_type": "execute_result"
    }
   ],
   "source": [
    "# Definimos el modelo Lasso\n",
    "lasso = rsearch_lasso.best_estimator_\n",
    "\n",
    "# Entrenamos el modelo\n",
    "lasso.fit(x_train_lasso, y_train_lasso)"
   ]
  },
  {
   "cell_type": "code",
   "execution_count": 27,
   "id": "ee6229cc",
   "metadata": {},
   "outputs": [
    {
     "name": "stdout",
     "output_type": "stream",
     "text": [
      "[ 957016.36820994  892388.83984108 1179118.69090962  834786.38349303\n",
      " 1045478.55958467]\n"
     ]
    },
    {
     "data": {
      "text/html": [
       "<div>\n",
       "<style scoped>\n",
       "    .dataframe tbody tr th:only-of-type {\n",
       "        vertical-align: middle;\n",
       "    }\n",
       "\n",
       "    .dataframe tbody tr th {\n",
       "        vertical-align: top;\n",
       "    }\n",
       "\n",
       "    .dataframe thead th {\n",
       "        text-align: right;\n",
       "    }\n",
       "</style>\n",
       "<table border=\"1\" class=\"dataframe\">\n",
       "  <thead>\n",
       "    <tr style=\"text-align: right;\">\n",
       "      <th></th>\n",
       "      <th>Weekly_Sales</th>\n",
       "    </tr>\n",
       "  </thead>\n",
       "  <tbody>\n",
       "    <tr>\n",
       "      <th>3949</th>\n",
       "      <td>1220984.94</td>\n",
       "    </tr>\n",
       "    <tr>\n",
       "      <th>4555</th>\n",
       "      <td>1246322.44</td>\n",
       "    </tr>\n",
       "    <tr>\n",
       "      <th>2235</th>\n",
       "      <td>505918.21</td>\n",
       "    </tr>\n",
       "    <tr>\n",
       "      <th>5204</th>\n",
       "      <td>527572.25</td>\n",
       "    </tr>\n",
       "    <tr>\n",
       "      <th>3524</th>\n",
       "      <td>719235.07</td>\n",
       "    </tr>\n",
       "  </tbody>\n",
       "</table>\n",
       "</div>"
      ],
      "text/plain": [
       "      Weekly_Sales\n",
       "3949    1220984.94\n",
       "4555    1246322.44\n",
       "2235     505918.21\n",
       "5204     527572.25\n",
       "3524     719235.07"
      ]
     },
     "execution_count": 27,
     "metadata": {},
     "output_type": "execute_result"
    }
   ],
   "source": [
    "# Validación visual\n",
    "y_pred_test_lasso = lasso.predict(x_test_lasso)\n",
    "print(y_pred_test_lasso[0:5])\n",
    "y_test_lasso.head()"
   ]
  },
  {
   "cell_type": "code",
   "execution_count": 28,
   "id": "06d67884",
   "metadata": {},
   "outputs": [
    {
     "name": "stdout",
     "output_type": "stream",
     "text": [
      "Slope: -14205.95\n",
      "Intercept: 1491928.88\n"
     ]
    }
   ],
   "source": [
    "print('Slope: %.2f' % lasso.coef_[0])\n",
    "print('Intercept: %.2f' % lasso.intercept_)"
   ]
  },
  {
   "cell_type": "markdown",
   "id": "d46285ef",
   "metadata": {},
   "source": [
    "__Evaluamos el modelo:__"
   ]
  },
  {
   "cell_type": "code",
   "execution_count": 29,
   "id": "7f9ce72a",
   "metadata": {},
   "outputs": [
    {
     "name": "stdout",
     "output_type": "stream",
     "text": [
      "R2 train de Lasso = 0.11\n",
      "R2 test de Lasso = 0.14\n",
      "Diferencia =  3.355%\n"
     ]
    }
   ],
   "source": [
    "# Obtieniento el R2 de train\n",
    "R2_train_lasso = lasso.score(x_train,y_train)\n",
    "print(\"R2 train de Lasso = {:.2f}\".format(R2_train_lasso))\n",
    "\n",
    "# Obtieniento el R2 de test\n",
    "R2_test_lasso = lasso.score(x_test,y_test)\n",
    "print(\"R2 test de Lasso = {:.2f}\".format(R2_test_lasso))\n",
    "\n",
    "# Diferencia\n",
    "dif_lasso = '{:.4}%'.format(np.abs(R2_train_lasso - R2_test_lasso)*100)\n",
    "print(\"Diferencia = \",dif_lasso)"
   ]
  },
  {
   "cell_type": "markdown",
   "id": "228a16e1",
   "metadata": {},
   "source": [
    "_¡El modelo __no__ tiene overfitting!_\n",
    "\n",
    "__Precisión del modelo:__"
   ]
  },
  {
   "cell_type": "code",
   "execution_count": 30,
   "id": "b16f49dc",
   "metadata": {},
   "outputs": [
    {
     "name": "stdout",
     "output_type": "stream",
     "text": [
      "MAPE de train de Lasso = 6.2e+01%\n",
      "MSE de train de Lasso = 4.4e+05\n",
      "RMSE de train de Lasso = 6.6e+02\n",
      "\n",
      "MAPE de test de Lasso = 6e+01%\n",
      "MSE de test de Lasso = 4.2e+05\n",
      "RMSE de test de Lasso = 6.5e+02\n"
     ]
    }
   ],
   "source": [
    "# Obtener el y_pred_train\n",
    "y_pred_train_lasso = lasso.predict(x_train_lasso)\n",
    "\n",
    "# Calculamos los errores de train\n",
    "mape_train_lasso = mape(y_train_lasso, y_pred_train_lasso)*100\n",
    "mse_train_lasso = mse(y_train_lasso, y_pred_train_lasso)\n",
    "rmse_train_lasso = np.sqrt(mse_train_lasso)\n",
    "\n",
    "# 3. Calculamos los errores de test\n",
    "mape_test_lasso = mape(y_test_lasso, y_pred_test_lasso)*100\n",
    "mse_test_lasso = mse(y_test_lasso, y_pred_test_lasso)\n",
    "rmse_test_lasso = np.sqrt(mse_test_lasso)\n",
    "\n",
    "print(\"MAPE de train de Lasso = {:.2}%\".format(mape_train_lasso))\n",
    "print(\"MSE de train de Lasso = {:.2}\".format(mse_train_lasso))\n",
    "print(\"RMSE de train de Lasso = {:.2}\".format(rmse_train_lasso))\n",
    "print(\"\")\n",
    "print(\"MAPE de test de Lasso = {:.2}%\".format(mape_test_lasso))\n",
    "print(\"MSE de test de Lasso = {:.2}\".format(mse_test_lasso))\n",
    "print(\"RMSE de test de Lasso = {:.2}\".format(rmse_test_lasso))"
   ]
  },
  {
   "cell_type": "markdown",
   "id": "d76e1943",
   "metadata": {},
   "source": [
    "### Ventajas y desventajas de la Regresión Lasso\n",
    "_Ventajas:_\n",
    "1. Reduce la complejidad del modelo\n",
    "2. Elimina (reduciendo a cero) los coeficientes con la ayuda de la selección automática de variables para los modelos\n",
    "3. Ayuda a resolver modelos con overfitting\n",
    "\n",
    "\n",
    "_Desventajas:_\n",
    "1.  Se introduce(n) hiperparámetro(s)\n",
    "2. Batalla para estimar los errores estándar\n",
    "3. Ortos problemas asociados con los modelos de regresión\n",
    "\n",
    "---\n",
    "### Campo en dónde se utiliza más la Regresión Lasso\n",
    "El algoritmo de Regresión Lasso también es llamado \"Método de Regresión Penalizado\" y suele utilizatrse en machine learning para la seleción de subconjuntos de variables. En general , Lasso proporciona una mayor predicción a comparación de otros métodos de regresión y por esto es útil para las interpretaciones de los modelos. \n",
    "\n",
    "---"
   ]
  },
  {
   "cell_type": "markdown",
   "id": "1ad36c52",
   "metadata": {},
   "source": [
    "Ridge\n",
    "=="
   ]
  },
  {
   "cell_type": "code",
   "execution_count": 31,
   "id": "937775b7",
   "metadata": {},
   "outputs": [],
   "source": [
    "from sklearn.linear_model import Ridge"
   ]
  },
  {
   "cell_type": "code",
   "execution_count": 32,
   "id": "34a71666",
   "metadata": {},
   "outputs": [],
   "source": [
    "df_ridge = pd.read_csv(\"Walmart.csv\")\n",
    "df_ridge['date_num'] = df_ridge['Date'].astype('category').cat.codes"
   ]
  },
  {
   "cell_type": "code",
   "execution_count": 33,
   "id": "7844aa73",
   "metadata": {},
   "outputs": [
    {
     "name": "stdout",
     "output_type": "stream",
     "text": [
      "(6435, 7)\n",
      "(6435,)\n"
     ]
    }
   ],
   "source": [
    "x_ridge = df_ridge.drop(columns=['Weekly_Sales','Date'])\n",
    "y_ridge = df_ridge['Weekly_Sales']\n",
    "print(x_ridge.shape)\n",
    "print(y_ridge.shape)"
   ]
  },
  {
   "cell_type": "code",
   "execution_count": 34,
   "id": "19a74595",
   "metadata": {},
   "outputs": [
    {
     "data": {
      "text/plain": [
       "((5148, 3), (1287, 3), (5148, 1), (1287, 1))"
      ]
     },
     "execution_count": 34,
     "metadata": {},
     "output_type": "execute_result"
    }
   ],
   "source": [
    "# Dividir los datos en train y test\n",
    "x_train_ridge, x_test_ridge, y_train_ridge, y_test_ridge = train_test_split(x, y, test_size = 0.2, random_state = 0)\n",
    "x_train_ridge.shape, x_test_ridge.shape, y_train_ridge.shape, y_test_ridge.shape"
   ]
  },
  {
   "cell_type": "code",
   "execution_count": 35,
   "id": "35743c8e",
   "metadata": {},
   "outputs": [
    {
     "name": "stdout",
     "output_type": "stream",
     "text": [
      "[0.01, 0.02, 0.03, 0.04, 0.05, 0.060000000000000005, 0.06999999999999999, 0.08, 0.09, 0.09999999999999999, 0.11, 0.12, 0.13, 0.14, 0.15000000000000002, 0.16, 0.17, 0.18000000000000002, 0.19, 0.2, 0.21000000000000002, 0.22, 0.23, 0.24000000000000002, 0.25, 0.26, 0.27, 0.28, 0.29000000000000004, 0.3, 0.31, 0.32, 0.33, 0.34, 0.35000000000000003, 0.36000000000000004, 0.37, 0.38, 0.39, 0.4, 0.41000000000000003, 0.42000000000000004, 0.43, 0.44, 0.45, 0.46, 0.47000000000000003, 0.48000000000000004, 0.49, 0.5, 0.51, 0.52, 0.53, 0.54, 0.55, 0.56, 0.5700000000000001, 0.5800000000000001, 0.59, 0.6, 0.61, 0.62, 0.63, 0.64, 0.65, 0.66, 0.67, 0.68, 0.6900000000000001, 0.7000000000000001, 0.7100000000000001, 0.72, 0.73, 0.74, 0.75, 0.76, 0.77, 0.78, 0.79, 0.8, 0.81, 0.8200000000000001, 0.8300000000000001, 0.8400000000000001, 0.85, 0.86, 0.87, 0.88, 0.89, 0.9, 0.91, 0.92, 0.93, 0.9400000000000001, 0.9500000000000001, 0.9600000000000001, 0.97, 0.98, 0.99, 1.0, 1.01, 1.02, 1.03, 1.04, 1.05, 1.06, 1.07, 1.08, 1.09, 1.1, 1.11, 1.12, 1.1300000000000001, 1.1400000000000001, 1.1500000000000001, 1.1600000000000001, 1.17, 1.18, 1.19, 1.2, 1.21, 1.22, 1.23, 1.24, 1.25, 1.26, 1.27, 1.28, 1.29, 1.3, 1.31, 1.32, 1.33, 1.34, 1.35, 1.36, 1.37, 1.3800000000000001, 1.3900000000000001, 1.4000000000000001, 1.4100000000000001, 1.42, 1.43, 1.44, 1.45, 1.46, 1.47, 1.48, 1.49, 1.5, 1.51, 1.52, 1.53, 1.54, 1.55, 1.56, 1.57, 1.58, 1.59, 1.6, 1.61, 1.62, 1.6300000000000001, 1.6400000000000001, 1.6500000000000001, 1.6600000000000001, 1.6700000000000002, 1.68, 1.69, 1.7, 1.71, 1.72, 1.73, 1.74, 1.75, 1.76, 1.77, 1.78, 1.79, 1.8, 1.81, 1.82, 1.83, 1.84, 1.85, 1.86, 1.87, 1.8800000000000001, 1.8900000000000001, 1.9000000000000001, 1.9100000000000001, 1.9200000000000002, 1.93, 1.94, 1.95, 1.96, 1.97, 1.98, 1.99, 2.0, 2.01, 2.02, 2.03, 2.04, 2.05, 2.0599999999999996, 2.07, 2.0799999999999996, 2.09, 2.0999999999999996, 2.11, 2.1199999999999997, 2.13, 2.1399999999999997, 2.15, 2.1599999999999997, 2.17, 2.1799999999999997, 2.19, 2.1999999999999997, 2.21, 2.2199999999999998, 2.23, 2.2399999999999998, 2.25, 2.26, 2.27, 2.28, 2.29, 2.3, 2.31, 2.32, 2.3299999999999996, 2.34, 2.3499999999999996, 2.36, 2.3699999999999997, 2.38, 2.3899999999999997, 2.4, 2.4099999999999997, 2.42, 2.4299999999999997, 2.44, 2.4499999999999997, 2.46, 2.4699999999999998, 2.48, 2.4899999999999998, 2.5, 2.51, 2.52, 2.53, 2.54, 2.55, 2.56, 2.57, 2.5799999999999996, 2.59, 2.5999999999999996, 2.61, 2.6199999999999997, 2.63, 2.6399999999999997, 2.65, 2.6599999999999997, 2.67, 2.6799999999999997, 2.69, 2.6999999999999997, 2.71, 2.7199999999999998, 2.73, 2.7399999999999998, 2.75, 2.76, 2.77, 2.78, 2.79, 2.8, 2.81, 2.82, 2.8299999999999996, 2.84, 2.8499999999999996, 2.86, 2.8699999999999997, 2.88, 2.8899999999999997, 2.9, 2.9099999999999997, 2.92, 2.9299999999999997, 2.94, 2.9499999999999997, 2.96, 2.9699999999999998, 2.98, 2.9899999999999998, 3.0, 3.01, 3.02, 3.03, 3.04, 3.05, 3.06, 3.07, 3.08, 3.09, 3.0999999999999996, 3.11, 3.1199999999999997, 3.13, 3.1399999999999997, 3.15, 3.1599999999999997, 3.17, 3.1799999999999997, 3.19, 3.1999999999999997, 3.21, 3.2199999999999998, 3.23, 3.2399999999999998, 3.25, 3.26, 3.27, 3.28, 3.29, 3.3, 3.31, 3.32, 3.33, 3.34, 3.3499999999999996, 3.36, 3.3699999999999997, 3.38, 3.3899999999999997, 3.4, 3.4099999999999997, 3.42, 3.4299999999999997, 3.44, 3.4499999999999997, 3.46, 3.4699999999999998, 3.48, 3.4899999999999998, 3.5, 3.51, 3.52, 3.53, 3.54, 3.55, 3.56, 3.57, 3.58, 3.59, 3.5999999999999996, 3.61, 3.6199999999999997, 3.63, 3.6399999999999997, 3.65, 3.6599999999999997, 3.67, 3.6799999999999997, 3.69, 3.6999999999999997, 3.71, 3.7199999999999998, 3.73, 3.7399999999999998, 3.75, 3.76, 3.77, 3.78, 3.79, 3.8, 3.81, 3.82, 3.83, 3.84, 3.8499999999999996, 3.86, 3.8699999999999997, 3.88, 3.8899999999999997, 3.9, 3.9099999999999997, 3.92, 3.9299999999999997, 3.94, 3.9499999999999997, 3.96, 3.9699999999999998, 3.98, 3.9899999999999998, 4.0, 4.01, 4.02, 4.03, 4.04, 4.05, 4.06, 4.07, 4.08, 4.09, 4.1, 4.109999999999999, 4.12, 4.13, 4.14, 4.1499999999999995, 4.16, 4.17, 4.18, 4.1899999999999995, 4.2, 4.21, 4.22, 4.2299999999999995, 4.24, 4.25, 4.26, 4.27, 4.28, 4.29, 4.3, 4.31, 4.32, 4.33, 4.34, 4.35, 4.36, 4.37, 4.38, 4.39, 4.3999999999999995, 4.41, 4.42, 4.43, 4.4399999999999995, 4.45, 4.46, 4.47, 4.4799999999999995, 4.49, 4.5, 4.51, 4.52, 4.53, 4.54, 4.55, 4.56, 4.57, 4.58, 4.59, 4.6, 4.61, 4.62, 4.63, 4.64, 4.6499999999999995, 4.66, 4.67, 4.68, 4.6899999999999995, 4.7, 4.71, 4.72, 4.7299999999999995, 4.74, 4.75, 4.76, 4.77, 4.78, 4.79, 4.8, 4.81, 4.82, 4.83, 4.84, 4.85, 4.86, 4.87, 4.88, 4.89, 4.8999999999999995, 4.91, 4.92, 4.93, 4.9399999999999995, 4.95, 4.96, 4.97, 4.9799999999999995, 4.99, 5.0, 5.01, 5.02, 5.03, 5.04, 5.05, 5.06, 5.07, 5.08, 5.09]\n",
      "[1, 2, 3, 4, 5, 6, 7, 8, 9]\n",
      "['auto', 'svd', 'cholesky', 'lsqr', 'sparce_cg', 'sag', 'saga', 'lbfsg']\n"
     ]
    }
   ],
   "source": [
    "# Definir el rango de variación de los parámetros\n",
    "param_range = {'alpha': np.arange(0.01, 5.1, 0.01),\n",
    "               'max_iter': range(1,10,1),\n",
    "               'solver': ['auto', 'svd','cholesky','lsqr','sparce_cg','sag','saga','lbfsg']}\n",
    "\n",
    "#Veamos los rangos a usar\n",
    "print(list(param_range['alpha']))\n",
    "print(list(param_range['max_iter']))\n",
    "print(list(param_range['solver']))"
   ]
  },
  {
   "cell_type": "code",
   "execution_count": 36,
   "id": "b67c2f48",
   "metadata": {},
   "outputs": [
    {
     "name": "stdout",
     "output_type": "stream",
     "text": [
      "Fitting 4 folds for each of 36648 candidates, totalling 146592 fits\n"
     ]
    },
    {
     "name": "stderr",
     "output_type": "stream",
     "text": [
      "C:\\ProgramData\\Anaconda3\\lib\\site-packages\\sklearn\\model_selection\\_validation.py:378: FitFailedWarning: \n",
      "36648 fits failed out of a total of 146592.\n",
      "The score on these train-test partitions for these parameters will be set to nan.\n",
      "If these failures are not expected, you can try to debug them by setting error_score='raise'.\n",
      "\n",
      "Below are more details about the failures:\n",
      "--------------------------------------------------------------------------------\n",
      "18324 fits failed with the following error:\n",
      "Traceback (most recent call last):\n",
      "  File \"C:\\ProgramData\\Anaconda3\\lib\\site-packages\\sklearn\\model_selection\\_validation.py\", line 686, in _fit_and_score\n",
      "    estimator.fit(X_train, y_train, **fit_params)\n",
      "  File \"C:\\ProgramData\\Anaconda3\\lib\\site-packages\\sklearn\\linear_model\\_ridge.py\", line 1130, in fit\n",
      "    return super().fit(X, y, sample_weight=sample_weight)\n",
      "  File \"C:\\ProgramData\\Anaconda3\\lib\\site-packages\\sklearn\\linear_model\\_ridge.py\", line 889, in fit\n",
      "    self.coef_, self.n_iter_ = _ridge_regression(\n",
      "  File \"C:\\ProgramData\\Anaconda3\\lib\\site-packages\\sklearn\\linear_model\\_ridge.py\", line 580, in _ridge_regression\n",
      "    raise ValueError(\n",
      "ValueError: Known solvers are 'sparse_cg', 'cholesky', 'svd' 'lsqr', 'sag', 'saga' or 'lbfgs'. Got sparce_cg.\n",
      "\n",
      "--------------------------------------------------------------------------------\n",
      "18324 fits failed with the following error:\n",
      "Traceback (most recent call last):\n",
      "  File \"C:\\ProgramData\\Anaconda3\\lib\\site-packages\\sklearn\\model_selection\\_validation.py\", line 686, in _fit_and_score\n",
      "    estimator.fit(X_train, y_train, **fit_params)\n",
      "  File \"C:\\ProgramData\\Anaconda3\\lib\\site-packages\\sklearn\\linear_model\\_ridge.py\", line 1130, in fit\n",
      "    return super().fit(X, y, sample_weight=sample_weight)\n",
      "  File \"C:\\ProgramData\\Anaconda3\\lib\\site-packages\\sklearn\\linear_model\\_ridge.py\", line 889, in fit\n",
      "    self.coef_, self.n_iter_ = _ridge_regression(\n",
      "  File \"C:\\ProgramData\\Anaconda3\\lib\\site-packages\\sklearn\\linear_model\\_ridge.py\", line 580, in _ridge_regression\n",
      "    raise ValueError(\n",
      "ValueError: Known solvers are 'sparse_cg', 'cholesky', 'svd' 'lsqr', 'sag', 'saga' or 'lbfgs'. Got lbfsg.\n",
      "\n",
      "  warnings.warn(some_fits_failed_message, FitFailedWarning)\n",
      "C:\\ProgramData\\Anaconda3\\lib\\site-packages\\sklearn\\model_selection\\_search.py:953: UserWarning: One or more of the test scores are non-finite: [0.10883001 0.10883001 0.10883001 ... 0.10786951 0.10888515        nan]\n",
      "  warnings.warn(\n",
      "C:\\ProgramData\\Anaconda3\\lib\\site-packages\\sklearn\\linear_model\\_sag.py:350: ConvergenceWarning: The max_iter was reached which means the coef_ did not converge\n",
      "  warnings.warn(\n"
     ]
    },
    {
     "data": {
      "text/html": [
       "<style>#sk-container-id-4 {color: black;background-color: white;}#sk-container-id-4 pre{padding: 0;}#sk-container-id-4 div.sk-toggleable {background-color: white;}#sk-container-id-4 label.sk-toggleable__label {cursor: pointer;display: block;width: 100%;margin-bottom: 0;padding: 0.3em;box-sizing: border-box;text-align: center;}#sk-container-id-4 label.sk-toggleable__label-arrow:before {content: \"▸\";float: left;margin-right: 0.25em;color: #696969;}#sk-container-id-4 label.sk-toggleable__label-arrow:hover:before {color: black;}#sk-container-id-4 div.sk-estimator:hover label.sk-toggleable__label-arrow:before {color: black;}#sk-container-id-4 div.sk-toggleable__content {max-height: 0;max-width: 0;overflow: hidden;text-align: left;background-color: #f0f8ff;}#sk-container-id-4 div.sk-toggleable__content pre {margin: 0.2em;color: black;border-radius: 0.25em;background-color: #f0f8ff;}#sk-container-id-4 input.sk-toggleable__control:checked~div.sk-toggleable__content {max-height: 200px;max-width: 100%;overflow: auto;}#sk-container-id-4 input.sk-toggleable__control:checked~label.sk-toggleable__label-arrow:before {content: \"▾\";}#sk-container-id-4 div.sk-estimator input.sk-toggleable__control:checked~label.sk-toggleable__label {background-color: #d4ebff;}#sk-container-id-4 div.sk-label input.sk-toggleable__control:checked~label.sk-toggleable__label {background-color: #d4ebff;}#sk-container-id-4 input.sk-hidden--visually {border: 0;clip: rect(1px 1px 1px 1px);clip: rect(1px, 1px, 1px, 1px);height: 1px;margin: -1px;overflow: hidden;padding: 0;position: absolute;width: 1px;}#sk-container-id-4 div.sk-estimator {font-family: monospace;background-color: #f0f8ff;border: 1px dotted black;border-radius: 0.25em;box-sizing: border-box;margin-bottom: 0.5em;}#sk-container-id-4 div.sk-estimator:hover {background-color: #d4ebff;}#sk-container-id-4 div.sk-parallel-item::after {content: \"\";width: 100%;border-bottom: 1px solid gray;flex-grow: 1;}#sk-container-id-4 div.sk-label:hover label.sk-toggleable__label {background-color: #d4ebff;}#sk-container-id-4 div.sk-serial::before {content: \"\";position: absolute;border-left: 1px solid gray;box-sizing: border-box;top: 0;bottom: 0;left: 50%;z-index: 0;}#sk-container-id-4 div.sk-serial {display: flex;flex-direction: column;align-items: center;background-color: white;padding-right: 0.2em;padding-left: 0.2em;position: relative;}#sk-container-id-4 div.sk-item {position: relative;z-index: 1;}#sk-container-id-4 div.sk-parallel {display: flex;align-items: stretch;justify-content: center;background-color: white;position: relative;}#sk-container-id-4 div.sk-item::before, #sk-container-id-4 div.sk-parallel-item::before {content: \"\";position: absolute;border-left: 1px solid gray;box-sizing: border-box;top: 0;bottom: 0;left: 50%;z-index: -1;}#sk-container-id-4 div.sk-parallel-item {display: flex;flex-direction: column;z-index: 1;position: relative;background-color: white;}#sk-container-id-4 div.sk-parallel-item:first-child::after {align-self: flex-end;width: 50%;}#sk-container-id-4 div.sk-parallel-item:last-child::after {align-self: flex-start;width: 50%;}#sk-container-id-4 div.sk-parallel-item:only-child::after {width: 0;}#sk-container-id-4 div.sk-dashed-wrapped {border: 1px dashed gray;margin: 0 0.4em 0.5em 0.4em;box-sizing: border-box;padding-bottom: 0.4em;background-color: white;}#sk-container-id-4 div.sk-label label {font-family: monospace;font-weight: bold;display: inline-block;line-height: 1.2em;}#sk-container-id-4 div.sk-label-container {text-align: center;}#sk-container-id-4 div.sk-container {/* jupyter's `normalize.less` sets `[hidden] { display: none; }` but bootstrap.min.css set `[hidden] { display: none !important; }` so we also need the `!important` here to be able to override the default hidden behavior on the sphinx rendered scikit-learn.org. See: https://github.com/scikit-learn/scikit-learn/issues/21755 */display: inline-block !important;position: relative;}#sk-container-id-4 div.sk-text-repr-fallback {display: none;}</style><div id=\"sk-container-id-4\" class=\"sk-top-container\"><div class=\"sk-text-repr-fallback\"><pre>GridSearchCV(cv=4, estimator=Ridge(random_state=0), n_jobs=-1,\n",
       "             param_grid={&#x27;alpha&#x27;: array([0.01, 0.02, 0.03, 0.04, 0.05, 0.06, 0.07, 0.08, 0.09, 0.1 , 0.11,\n",
       "       0.12, 0.13, 0.14, 0.15, 0.16, 0.17, 0.18, 0.19, 0.2 , 0.21, 0.22,\n",
       "       0.23, 0.24, 0.25, 0.26, 0.27, 0.28, 0.29, 0.3 , 0.31, 0.32, 0.33,\n",
       "       0.34, 0.35, 0.36, 0.37, 0.38, 0.39, 0.4 , 0.41, 0.42, 0.43, 0.44,\n",
       "       0.45, 0.46, 0.47, 0.48, 0.49, 0.5 , 0.51, 0.52, 0.53, 0.5...\n",
       "       4.52, 4.53, 4.54, 4.55, 4.56, 4.57, 4.58, 4.59, 4.6 , 4.61, 4.62,\n",
       "       4.63, 4.64, 4.65, 4.66, 4.67, 4.68, 4.69, 4.7 , 4.71, 4.72, 4.73,\n",
       "       4.74, 4.75, 4.76, 4.77, 4.78, 4.79, 4.8 , 4.81, 4.82, 4.83, 4.84,\n",
       "       4.85, 4.86, 4.87, 4.88, 4.89, 4.9 , 4.91, 4.92, 4.93, 4.94, 4.95,\n",
       "       4.96, 4.97, 4.98, 4.99, 5.  , 5.01, 5.02, 5.03, 5.04, 5.05, 5.06,\n",
       "       5.07, 5.08, 5.09]),\n",
       "                         &#x27;max_iter&#x27;: range(1, 10),\n",
       "                         &#x27;solver&#x27;: [&#x27;auto&#x27;, &#x27;svd&#x27;, &#x27;cholesky&#x27;, &#x27;lsqr&#x27;,\n",
       "                                    &#x27;sparce_cg&#x27;, &#x27;sag&#x27;, &#x27;saga&#x27;, &#x27;lbfsg&#x27;]},\n",
       "             verbose=4)</pre><b>In a Jupyter environment, please rerun this cell to show the HTML representation or trust the notebook. <br />On GitHub, the HTML representation is unable to render, please try loading this page with nbviewer.org.</b></div><div class=\"sk-container\" hidden><div class=\"sk-item sk-dashed-wrapped\"><div class=\"sk-label-container\"><div class=\"sk-label sk-toggleable\"><input class=\"sk-toggleable__control sk-hidden--visually\" id=\"sk-estimator-id-6\" type=\"checkbox\" ><label for=\"sk-estimator-id-6\" class=\"sk-toggleable__label sk-toggleable__label-arrow\">GridSearchCV</label><div class=\"sk-toggleable__content\"><pre>GridSearchCV(cv=4, estimator=Ridge(random_state=0), n_jobs=-1,\n",
       "             param_grid={&#x27;alpha&#x27;: array([0.01, 0.02, 0.03, 0.04, 0.05, 0.06, 0.07, 0.08, 0.09, 0.1 , 0.11,\n",
       "       0.12, 0.13, 0.14, 0.15, 0.16, 0.17, 0.18, 0.19, 0.2 , 0.21, 0.22,\n",
       "       0.23, 0.24, 0.25, 0.26, 0.27, 0.28, 0.29, 0.3 , 0.31, 0.32, 0.33,\n",
       "       0.34, 0.35, 0.36, 0.37, 0.38, 0.39, 0.4 , 0.41, 0.42, 0.43, 0.44,\n",
       "       0.45, 0.46, 0.47, 0.48, 0.49, 0.5 , 0.51, 0.52, 0.53, 0.5...\n",
       "       4.52, 4.53, 4.54, 4.55, 4.56, 4.57, 4.58, 4.59, 4.6 , 4.61, 4.62,\n",
       "       4.63, 4.64, 4.65, 4.66, 4.67, 4.68, 4.69, 4.7 , 4.71, 4.72, 4.73,\n",
       "       4.74, 4.75, 4.76, 4.77, 4.78, 4.79, 4.8 , 4.81, 4.82, 4.83, 4.84,\n",
       "       4.85, 4.86, 4.87, 4.88, 4.89, 4.9 , 4.91, 4.92, 4.93, 4.94, 4.95,\n",
       "       4.96, 4.97, 4.98, 4.99, 5.  , 5.01, 5.02, 5.03, 5.04, 5.05, 5.06,\n",
       "       5.07, 5.08, 5.09]),\n",
       "                         &#x27;max_iter&#x27;: range(1, 10),\n",
       "                         &#x27;solver&#x27;: [&#x27;auto&#x27;, &#x27;svd&#x27;, &#x27;cholesky&#x27;, &#x27;lsqr&#x27;,\n",
       "                                    &#x27;sparce_cg&#x27;, &#x27;sag&#x27;, &#x27;saga&#x27;, &#x27;lbfsg&#x27;]},\n",
       "             verbose=4)</pre></div></div></div><div class=\"sk-parallel\"><div class=\"sk-parallel-item\"><div class=\"sk-item\"><div class=\"sk-label-container\"><div class=\"sk-label sk-toggleable\"><input class=\"sk-toggleable__control sk-hidden--visually\" id=\"sk-estimator-id-7\" type=\"checkbox\" ><label for=\"sk-estimator-id-7\" class=\"sk-toggleable__label sk-toggleable__label-arrow\">estimator: Ridge</label><div class=\"sk-toggleable__content\"><pre>Ridge(random_state=0)</pre></div></div></div><div class=\"sk-serial\"><div class=\"sk-item\"><div class=\"sk-estimator sk-toggleable\"><input class=\"sk-toggleable__control sk-hidden--visually\" id=\"sk-estimator-id-8\" type=\"checkbox\" ><label for=\"sk-estimator-id-8\" class=\"sk-toggleable__label sk-toggleable__label-arrow\">Ridge</label><div class=\"sk-toggleable__content\"><pre>Ridge(random_state=0)</pre></div></div></div></div></div></div></div></div></div></div>"
      ],
      "text/plain": [
       "GridSearchCV(cv=4, estimator=Ridge(random_state=0), n_jobs=-1,\n",
       "             param_grid={'alpha': array([0.01, 0.02, 0.03, 0.04, 0.05, 0.06, 0.07, 0.08, 0.09, 0.1 , 0.11,\n",
       "       0.12, 0.13, 0.14, 0.15, 0.16, 0.17, 0.18, 0.19, 0.2 , 0.21, 0.22,\n",
       "       0.23, 0.24, 0.25, 0.26, 0.27, 0.28, 0.29, 0.3 , 0.31, 0.32, 0.33,\n",
       "       0.34, 0.35, 0.36, 0.37, 0.38, 0.39, 0.4 , 0.41, 0.42, 0.43, 0.44,\n",
       "       0.45, 0.46, 0.47, 0.48, 0.49, 0.5 , 0.51, 0.52, 0.53, 0.5...\n",
       "       4.52, 4.53, 4.54, 4.55, 4.56, 4.57, 4.58, 4.59, 4.6 , 4.61, 4.62,\n",
       "       4.63, 4.64, 4.65, 4.66, 4.67, 4.68, 4.69, 4.7 , 4.71, 4.72, 4.73,\n",
       "       4.74, 4.75, 4.76, 4.77, 4.78, 4.79, 4.8 , 4.81, 4.82, 4.83, 4.84,\n",
       "       4.85, 4.86, 4.87, 4.88, 4.89, 4.9 , 4.91, 4.92, 4.93, 4.94, 4.95,\n",
       "       4.96, 4.97, 4.98, 4.99, 5.  , 5.01, 5.02, 5.03, 5.04, 5.05, 5.06,\n",
       "       5.07, 5.08, 5.09]),\n",
       "                         'max_iter': range(1, 10),\n",
       "                         'solver': ['auto', 'svd', 'cholesky', 'lsqr',\n",
       "                                    'sparce_cg', 'sag', 'saga', 'lbfsg']},\n",
       "             verbose=4)"
      ]
     },
     "execution_count": 36,
     "metadata": {},
     "output_type": "execute_result"
    }
   ],
   "source": [
    "# Definir el optimizador\n",
    "rsearch_ridge = GridSearchCV(Ridge(random_state = 0),\n",
    "                             param_range,\n",
    "                             n_jobs = -1 , #Usa todos los nucleos\n",
    "                             verbose = 4,\n",
    "                             cv = 4)\n",
    "#Optimizamos\n",
    "rsearch_ridge.fit(x_train_ridge, y_train_ridge)"
   ]
  },
  {
   "cell_type": "code",
   "execution_count": 37,
   "id": "2647c22d",
   "metadata": {},
   "outputs": [
    {
     "name": "stdout",
     "output_type": "stream",
     "text": [
      "R2 Promedio = 0.1093204152619458\n",
      "Mejor Modelo = Ridge(alpha=0.01, max_iter=4, random_state=0, solver='saga')\n",
      "Mejores Parámetros = {'alpha': 0.01, 'max_iter': 4, 'solver': 'saga'}\n"
     ]
    }
   ],
   "source": [
    "print(f\"R2 Promedio = {rsearch_ridge.best_score_}\")\n",
    "print(f\"Mejor Modelo = {rsearch_ridge.best_estimator_}\")\n",
    "print(f\"Mejores Parámetros = {rsearch_ridge.best_params_}\")"
   ]
  },
  {
   "cell_type": "code",
   "execution_count": 39,
   "id": "70cedc73",
   "metadata": {},
   "outputs": [
    {
     "name": "stderr",
     "output_type": "stream",
     "text": [
      "C:\\ProgramData\\Anaconda3\\lib\\site-packages\\sklearn\\linear_model\\_sag.py:350: ConvergenceWarning: The max_iter was reached which means the coef_ did not converge\n",
      "  warnings.warn(\n"
     ]
    },
    {
     "data": {
      "text/html": [
       "<style>#sk-container-id-5 {color: black;background-color: white;}#sk-container-id-5 pre{padding: 0;}#sk-container-id-5 div.sk-toggleable {background-color: white;}#sk-container-id-5 label.sk-toggleable__label {cursor: pointer;display: block;width: 100%;margin-bottom: 0;padding: 0.3em;box-sizing: border-box;text-align: center;}#sk-container-id-5 label.sk-toggleable__label-arrow:before {content: \"▸\";float: left;margin-right: 0.25em;color: #696969;}#sk-container-id-5 label.sk-toggleable__label-arrow:hover:before {color: black;}#sk-container-id-5 div.sk-estimator:hover label.sk-toggleable__label-arrow:before {color: black;}#sk-container-id-5 div.sk-toggleable__content {max-height: 0;max-width: 0;overflow: hidden;text-align: left;background-color: #f0f8ff;}#sk-container-id-5 div.sk-toggleable__content pre {margin: 0.2em;color: black;border-radius: 0.25em;background-color: #f0f8ff;}#sk-container-id-5 input.sk-toggleable__control:checked~div.sk-toggleable__content {max-height: 200px;max-width: 100%;overflow: auto;}#sk-container-id-5 input.sk-toggleable__control:checked~label.sk-toggleable__label-arrow:before {content: \"▾\";}#sk-container-id-5 div.sk-estimator input.sk-toggleable__control:checked~label.sk-toggleable__label {background-color: #d4ebff;}#sk-container-id-5 div.sk-label input.sk-toggleable__control:checked~label.sk-toggleable__label {background-color: #d4ebff;}#sk-container-id-5 input.sk-hidden--visually {border: 0;clip: rect(1px 1px 1px 1px);clip: rect(1px, 1px, 1px, 1px);height: 1px;margin: -1px;overflow: hidden;padding: 0;position: absolute;width: 1px;}#sk-container-id-5 div.sk-estimator {font-family: monospace;background-color: #f0f8ff;border: 1px dotted black;border-radius: 0.25em;box-sizing: border-box;margin-bottom: 0.5em;}#sk-container-id-5 div.sk-estimator:hover {background-color: #d4ebff;}#sk-container-id-5 div.sk-parallel-item::after {content: \"\";width: 100%;border-bottom: 1px solid gray;flex-grow: 1;}#sk-container-id-5 div.sk-label:hover label.sk-toggleable__label {background-color: #d4ebff;}#sk-container-id-5 div.sk-serial::before {content: \"\";position: absolute;border-left: 1px solid gray;box-sizing: border-box;top: 0;bottom: 0;left: 50%;z-index: 0;}#sk-container-id-5 div.sk-serial {display: flex;flex-direction: column;align-items: center;background-color: white;padding-right: 0.2em;padding-left: 0.2em;position: relative;}#sk-container-id-5 div.sk-item {position: relative;z-index: 1;}#sk-container-id-5 div.sk-parallel {display: flex;align-items: stretch;justify-content: center;background-color: white;position: relative;}#sk-container-id-5 div.sk-item::before, #sk-container-id-5 div.sk-parallel-item::before {content: \"\";position: absolute;border-left: 1px solid gray;box-sizing: border-box;top: 0;bottom: 0;left: 50%;z-index: -1;}#sk-container-id-5 div.sk-parallel-item {display: flex;flex-direction: column;z-index: 1;position: relative;background-color: white;}#sk-container-id-5 div.sk-parallel-item:first-child::after {align-self: flex-end;width: 50%;}#sk-container-id-5 div.sk-parallel-item:last-child::after {align-self: flex-start;width: 50%;}#sk-container-id-5 div.sk-parallel-item:only-child::after {width: 0;}#sk-container-id-5 div.sk-dashed-wrapped {border: 1px dashed gray;margin: 0 0.4em 0.5em 0.4em;box-sizing: border-box;padding-bottom: 0.4em;background-color: white;}#sk-container-id-5 div.sk-label label {font-family: monospace;font-weight: bold;display: inline-block;line-height: 1.2em;}#sk-container-id-5 div.sk-label-container {text-align: center;}#sk-container-id-5 div.sk-container {/* jupyter's `normalize.less` sets `[hidden] { display: none; }` but bootstrap.min.css set `[hidden] { display: none !important; }` so we also need the `!important` here to be able to override the default hidden behavior on the sphinx rendered scikit-learn.org. See: https://github.com/scikit-learn/scikit-learn/issues/21755 */display: inline-block !important;position: relative;}#sk-container-id-5 div.sk-text-repr-fallback {display: none;}</style><div id=\"sk-container-id-5\" class=\"sk-top-container\"><div class=\"sk-text-repr-fallback\"><pre>Ridge(alpha=0.01, max_iter=4, random_state=0, solver=&#x27;saga&#x27;)</pre><b>In a Jupyter environment, please rerun this cell to show the HTML representation or trust the notebook. <br />On GitHub, the HTML representation is unable to render, please try loading this page with nbviewer.org.</b></div><div class=\"sk-container\" hidden><div class=\"sk-item\"><div class=\"sk-estimator sk-toggleable\"><input class=\"sk-toggleable__control sk-hidden--visually\" id=\"sk-estimator-id-9\" type=\"checkbox\" checked><label for=\"sk-estimator-id-9\" class=\"sk-toggleable__label sk-toggleable__label-arrow\">Ridge</label><div class=\"sk-toggleable__content\"><pre>Ridge(alpha=0.01, max_iter=4, random_state=0, solver=&#x27;saga&#x27;)</pre></div></div></div></div></div>"
      ],
      "text/plain": [
       "Ridge(alpha=0.01, max_iter=4, random_state=0, solver='saga')"
      ]
     },
     "execution_count": 39,
     "metadata": {},
     "output_type": "execute_result"
    }
   ],
   "source": [
    "# Definimos el modelo\n",
    "ridge = rsearch_ridge.best_estimator_\n",
    "#Entrenamos el modelo\n",
    "ridge.fit(x_train_ridge,y_train_ridge)"
   ]
  },
  {
   "cell_type": "code",
   "execution_count": 43,
   "id": "f9ca7537",
   "metadata": {},
   "outputs": [
    {
     "name": "stdout",
     "output_type": "stream",
     "text": [
      "[[ 964050.63370797]\n",
      " [ 903037.88882178]\n",
      " [1176982.16624763]\n",
      " [ 851328.70837409]\n",
      " [1052173.42010985]]\n"
     ]
    },
    {
     "data": {
      "text/html": [
       "<div>\n",
       "<style scoped>\n",
       "    .dataframe tbody tr th:only-of-type {\n",
       "        vertical-align: middle;\n",
       "    }\n",
       "\n",
       "    .dataframe tbody tr th {\n",
       "        vertical-align: top;\n",
       "    }\n",
       "\n",
       "    .dataframe thead th {\n",
       "        text-align: right;\n",
       "    }\n",
       "</style>\n",
       "<table border=\"1\" class=\"dataframe\">\n",
       "  <thead>\n",
       "    <tr style=\"text-align: right;\">\n",
       "      <th></th>\n",
       "      <th>Weekly_Sales</th>\n",
       "    </tr>\n",
       "  </thead>\n",
       "  <tbody>\n",
       "    <tr>\n",
       "      <th>3949</th>\n",
       "      <td>1220984.94</td>\n",
       "    </tr>\n",
       "    <tr>\n",
       "      <th>4555</th>\n",
       "      <td>1246322.44</td>\n",
       "    </tr>\n",
       "    <tr>\n",
       "      <th>2235</th>\n",
       "      <td>505918.21</td>\n",
       "    </tr>\n",
       "    <tr>\n",
       "      <th>5204</th>\n",
       "      <td>527572.25</td>\n",
       "    </tr>\n",
       "    <tr>\n",
       "      <th>3524</th>\n",
       "      <td>719235.07</td>\n",
       "    </tr>\n",
       "  </tbody>\n",
       "</table>\n",
       "</div>"
      ],
      "text/plain": [
       "      Weekly_Sales\n",
       "3949    1220984.94\n",
       "4555    1246322.44\n",
       "2235     505918.21\n",
       "5204     527572.25\n",
       "3524     719235.07"
      ]
     },
     "execution_count": 43,
     "metadata": {},
     "output_type": "execute_result"
    }
   ],
   "source": [
    "# Validación visual\n",
    "y_pred_test_ridge = ridge.predict(x_test_ridge)\n",
    "print(y_pred_test_ridge[0:5])\n",
    "y_test_ridge.head()"
   ]
  },
  {
   "cell_type": "markdown",
   "id": "1a16f437",
   "metadata": {},
   "source": [
    "__Evaluamos el modelo:__"
   ]
  },
  {
   "cell_type": "code",
   "execution_count": 44,
   "id": "c0f5f634",
   "metadata": {},
   "outputs": [
    {
     "name": "stdout",
     "output_type": "stream",
     "text": [
      "R2 train de Ridge = 0.11\n",
      "R2 test de Ridge = 0.14\n",
      "Diferencia =  3.125%\n"
     ]
    }
   ],
   "source": [
    "# Obtieniento el R2 de train\n",
    "R2_train_ridge = ridge.score(x_train_ridge, y_train_ridge)\n",
    "print(\"R2 train de Ridge = {:.2f}\".format(R2_train_ridge))\n",
    "\n",
    "# Obtieniento el R2 de test\n",
    "R2_test_ridge = ridge.score(x_test_ridge, y_test_ridge)\n",
    "print(\"R2 test de Ridge = {:.2f}\".format(R2_test_ridge))\n",
    "\n",
    "# Diferencia\n",
    "dif_ridge = '{:.4}%'.format(np.abs(R2_train_ridge - R2_test_ridge)*100)\n",
    "print(\"Diferencia = \",dif_ridge)"
   ]
  },
  {
   "cell_type": "markdown",
   "id": "0dd86ca3",
   "metadata": {},
   "source": [
    "_¡El modelo __no__ tiene overfitting!_\n",
    "\n",
    "__Precisión del modelo:__"
   ]
  },
  {
   "cell_type": "code",
   "execution_count": 45,
   "id": "976bd704",
   "metadata": {},
   "outputs": [
    {
     "name": "stdout",
     "output_type": "stream",
     "text": [
      "MAPE de train de Ridge = 6.2e+01%\n",
      "MSE de train de Ridge = 4.4e+05\n",
      "RMSE de train de Ridge = 6.6e+02\n",
      "\n",
      "MAPE de test de Ridge = 6e+01%\n",
      "MSE de test de Ridge = 4.3e+05\n",
      "RMSE de test de Ridge = 6.5e+02\n"
     ]
    }
   ],
   "source": [
    "# Obtener el y_pred_train\n",
    "y_pred_train_ridge = ridge.predict(x_train_ridge)\n",
    "\n",
    "# Calculamos los errores de train\n",
    "mape_train_ridge = mape(y_train_ridge, y_pred_train_ridge)*100\n",
    "mse_train_ridge = mse(y_train_ridge, y_pred_train_ridge)\n",
    "rmse_train_ridge = np.sqrt(mse_train_ridge)\n",
    "\n",
    "# 3. Calculamos los errores de test\n",
    "mape_test_ridge = mape(y_test_ridge, y_pred_test_ridge)*100\n",
    "mse_test_ridge = mse(y_test_ridge, y_pred_test_ridge)\n",
    "rmse_test_ridge = np.sqrt(mse_test_ridge)\n",
    "\n",
    "print(\"MAPE de train de Ridge = {:.2}%\".format(mape_train_ridge))\n",
    "print(\"MSE de train de Ridge = {:.2}\".format(mse_train_ridge))\n",
    "print(\"RMSE de train de Ridge = {:.2}\".format(rmse_train_ridge))\n",
    "print(\"\")\n",
    "print(\"MAPE de test de Ridge = {:.2}%\".format(mape_test_ridge))\n",
    "print(\"MSE de test de Ridge = {:.2}\".format(mse_test_ridge))\n",
    "print(\"RMSE de test de Ridge = {:.2}\".format(rmse_test_ridge))"
   ]
  },
  {
   "cell_type": "markdown",
   "id": "8b735a26",
   "metadata": {},
   "source": [
    "---\n",
    "### Ventajas y desventajas de la Regresión Ridge\n",
    "_Ventajas:_\n",
    "1. Puede tratar con la multicolinealidad\n",
    "2. Reduce el Overfitting\n",
    "3. Produce resultados con menos varianza\n",
    "\n",
    "_Desventajas:_\n",
    "1. Aumenta el sesgo del modelo.\n",
    "2. La selección del alpha necesita ser metódico y precisa\n",
    "3. Interpretación del modelo baja\n",
    "\n",
    "---\n",
    "### Campo en dónde se utiliza más la Regresión Ridge\n",
    "---\n",
    "\n",
    "La regression Ridge es de extrema ayuda cuando se tiene un dataset con amplia cantidad de variables o columnas, ya que su funcionalidad es prevenir o solucionar cualquier problema de multicolinealidad. Gracias a esto, es posible ingresar todas las variables que tengamos ya que de todos modos, el modelo buscará penalizar la multicolinealidad al modificar los coeficientes. Ejemplos de campos de utilización puede ser los mercados en línea que recolectan muchas variables sobre 1 consumidor ya que así se ahorran el tiempo de tener que modificar cualquier selección de variables"
   ]
  },
  {
   "cell_type": "markdown",
   "id": "421b9d91",
   "metadata": {},
   "source": [
    "# ElasticNet"
   ]
  },
  {
   "cell_type": "code",
   "execution_count": 48,
   "id": "b184613a",
   "metadata": {},
   "outputs": [],
   "source": [
    "from sklearn.linear_model import ElasticNet"
   ]
  },
  {
   "cell_type": "code",
   "execution_count": 49,
   "id": "89849902",
   "metadata": {},
   "outputs": [],
   "source": [
    "df_elastic = pd.read_csv(\"Walmart.csv\")\n",
    "df_elastic['date_num'] = df_ridge['Date'].astype('category').cat.codes"
   ]
  },
  {
   "cell_type": "code",
   "execution_count": 51,
   "id": "52a6f80d",
   "metadata": {},
   "outputs": [
    {
     "name": "stdout",
     "output_type": "stream",
     "text": [
      "(6435, 7)\n",
      "(6435,)\n"
     ]
    }
   ],
   "source": [
    "x_elastic = df_elastic.drop(columns=['Weekly_Sales','Date'])\n",
    "y_elastic = df_ridge['Weekly_Sales']\n",
    "print(x_elastic.shape)\n",
    "print(y_elastic.shape)"
   ]
  },
  {
   "cell_type": "code",
   "execution_count": 53,
   "id": "265d2213",
   "metadata": {},
   "outputs": [
    {
     "name": "stdout",
     "output_type": "stream",
     "text": [
      "[0.01, 0.03, 0.05, 0.07, 0.1, 0.3, 0.5, 0.7, 1, 2, 3, 4, 5]\n",
      "[0.05, 0.1, 0.15, 0.2, 0.25, 0.3, 0.35, 0.4, 0.45, 0.5, 0.55, 0.6, 0.65, 0.7, 0.75, 0.8, 0.85, 0.9, 0.95, 1]\n"
     ]
    }
   ],
   "source": [
    "#Definir el rango de variación de los parámetros\n",
    "param_elastic = {'alpha': [0.01,0.03,0.05,0.07,0.1,0.3,0.5,0.7,1,2,3,4,5],\n",
    "               'l1_ratio': [0.05,0.1,0.15,0.2,0.25,0.3,0.35,0.4,0.45,0.5,0.55,0.6,0.65,0.7,0.75,0.8,0.85,0.9,0.95,1]}\n",
    "\n",
    "#Veamos los rangos a usar\n",
    "print(list(param_elastic['alpha']))\n",
    "print(list(param_elastic['l1_ratio']))"
   ]
  },
  {
   "cell_type": "code",
   "execution_count": 54,
   "id": "dcafcaf3",
   "metadata": {},
   "outputs": [
    {
     "name": "stdout",
     "output_type": "stream",
     "text": [
      "Fitting 3 folds for each of 36648 candidates, totalling 109944 fits\n"
     ]
    },
    {
     "ename": "ValueError",
     "evalue": "Invalid parameter 'solver' for estimator ElasticNet(alpha=0.01, max_iter=1, random_state=0). Valid parameters are: ['alpha', 'copy_X', 'fit_intercept', 'l1_ratio', 'max_iter', 'normalize', 'positive', 'precompute', 'random_state', 'selection', 'tol', 'warm_start'].",
     "output_type": "error",
     "traceback": [
      "\u001b[1;31m---------------------------------------------------------------------------\u001b[0m",
      "\u001b[1;31m_RemoteTraceback\u001b[0m                          Traceback (most recent call last)",
      "\u001b[1;31m_RemoteTraceback\u001b[0m: \n\"\"\"\nTraceback (most recent call last):\n  File \"C:\\ProgramData\\Anaconda3\\lib\\site-packages\\joblib\\externals\\loky\\process_executor.py\", line 436, in _process_worker\n    r = call_item()\n  File \"C:\\ProgramData\\Anaconda3\\lib\\site-packages\\joblib\\externals\\loky\\process_executor.py\", line 288, in __call__\n    return self.fn(*self.args, **self.kwargs)\n  File \"C:\\ProgramData\\Anaconda3\\lib\\site-packages\\joblib\\_parallel_backends.py\", line 595, in __call__\n    return self.func(*args, **kwargs)\n  File \"C:\\ProgramData\\Anaconda3\\lib\\site-packages\\joblib\\parallel.py\", line 262, in __call__\n    return [func(*args, **kwargs)\n  File \"C:\\ProgramData\\Anaconda3\\lib\\site-packages\\joblib\\parallel.py\", line 262, in <listcomp>\n    return [func(*args, **kwargs)\n  File \"C:\\ProgramData\\Anaconda3\\lib\\site-packages\\sklearn\\utils\\fixes.py\", line 117, in __call__\n    return self.function(*args, **kwargs)\n  File \"C:\\ProgramData\\Anaconda3\\lib\\site-packages\\sklearn\\model_selection\\_validation.py\", line 674, in _fit_and_score\n    estimator = estimator.set_params(**cloned_parameters)\n  File \"C:\\ProgramData\\Anaconda3\\lib\\site-packages\\sklearn\\base.py\", line 246, in set_params\n    raise ValueError(\nValueError: Invalid parameter 'solver' for estimator ElasticNet(alpha=0.01, max_iter=1, random_state=0). Valid parameters are: ['alpha', 'copy_X', 'fit_intercept', 'l1_ratio', 'max_iter', 'normalize', 'positive', 'precompute', 'random_state', 'selection', 'tol', 'warm_start'].\n\"\"\"",
      "\nThe above exception was the direct cause of the following exception:\n",
      "\u001b[1;31mValueError\u001b[0m                                Traceback (most recent call last)",
      "Input \u001b[1;32mIn [54]\u001b[0m, in \u001b[0;36m<cell line: 8>\u001b[1;34m()\u001b[0m\n\u001b[0;32m      2\u001b[0m rsearch_elastic \u001b[38;5;241m=\u001b[39m GridSearchCV(ElasticNet(random_state\u001b[38;5;241m=\u001b[39m\u001b[38;5;241m0\u001b[39m),\n\u001b[0;32m      3\u001b[0m                              param_range,\n\u001b[0;32m      4\u001b[0m                              n_jobs\u001b[38;5;241m=\u001b[39m\u001b[38;5;241m-\u001b[39m\u001b[38;5;241m1\u001b[39m , \u001b[38;5;66;03m#Usa todos los nucleos\u001b[39;00m\n\u001b[0;32m      5\u001b[0m                              verbose\u001b[38;5;241m=\u001b[39m\u001b[38;5;241m4\u001b[39m,\n\u001b[0;32m      6\u001b[0m                              cv\u001b[38;5;241m=\u001b[39m\u001b[38;5;241m3\u001b[39m)\n\u001b[0;32m      7\u001b[0m \u001b[38;5;66;03m#Optimizamos\u001b[39;00m\n\u001b[1;32m----> 8\u001b[0m \u001b[43mrsearch_elastic\u001b[49m\u001b[38;5;241;43m.\u001b[39;49m\u001b[43mfit\u001b[49m\u001b[43m(\u001b[49m\u001b[43mx_train_ridge\u001b[49m\u001b[43m,\u001b[49m\u001b[43my_train_ridge\u001b[49m\u001b[43m)\u001b[49m\n",
      "File \u001b[1;32mC:\\ProgramData\\Anaconda3\\lib\\site-packages\\sklearn\\model_selection\\_search.py:875\u001b[0m, in \u001b[0;36mBaseSearchCV.fit\u001b[1;34m(self, X, y, groups, **fit_params)\u001b[0m\n\u001b[0;32m    869\u001b[0m     results \u001b[38;5;241m=\u001b[39m \u001b[38;5;28mself\u001b[39m\u001b[38;5;241m.\u001b[39m_format_results(\n\u001b[0;32m    870\u001b[0m         all_candidate_params, n_splits, all_out, all_more_results\n\u001b[0;32m    871\u001b[0m     )\n\u001b[0;32m    873\u001b[0m     \u001b[38;5;28;01mreturn\u001b[39;00m results\n\u001b[1;32m--> 875\u001b[0m \u001b[38;5;28;43mself\u001b[39;49m\u001b[38;5;241;43m.\u001b[39;49m\u001b[43m_run_search\u001b[49m\u001b[43m(\u001b[49m\u001b[43mevaluate_candidates\u001b[49m\u001b[43m)\u001b[49m\n\u001b[0;32m    877\u001b[0m \u001b[38;5;66;03m# multimetric is determined here because in the case of a callable\u001b[39;00m\n\u001b[0;32m    878\u001b[0m \u001b[38;5;66;03m# self.scoring the return type is only known after calling\u001b[39;00m\n\u001b[0;32m    879\u001b[0m first_test_score \u001b[38;5;241m=\u001b[39m all_out[\u001b[38;5;241m0\u001b[39m][\u001b[38;5;124m\"\u001b[39m\u001b[38;5;124mtest_scores\u001b[39m\u001b[38;5;124m\"\u001b[39m]\n",
      "File \u001b[1;32mC:\\ProgramData\\Anaconda3\\lib\\site-packages\\sklearn\\model_selection\\_search.py:1379\u001b[0m, in \u001b[0;36mGridSearchCV._run_search\u001b[1;34m(self, evaluate_candidates)\u001b[0m\n\u001b[0;32m   1377\u001b[0m \u001b[38;5;28;01mdef\u001b[39;00m \u001b[38;5;21m_run_search\u001b[39m(\u001b[38;5;28mself\u001b[39m, evaluate_candidates):\n\u001b[0;32m   1378\u001b[0m     \u001b[38;5;124;03m\"\"\"Search all candidates in param_grid\"\"\"\u001b[39;00m\n\u001b[1;32m-> 1379\u001b[0m     \u001b[43mevaluate_candidates\u001b[49m\u001b[43m(\u001b[49m\u001b[43mParameterGrid\u001b[49m\u001b[43m(\u001b[49m\u001b[38;5;28;43mself\u001b[39;49m\u001b[38;5;241;43m.\u001b[39;49m\u001b[43mparam_grid\u001b[49m\u001b[43m)\u001b[49m\u001b[43m)\u001b[49m\n",
      "File \u001b[1;32mC:\\ProgramData\\Anaconda3\\lib\\site-packages\\sklearn\\model_selection\\_search.py:822\u001b[0m, in \u001b[0;36mBaseSearchCV.fit.<locals>.evaluate_candidates\u001b[1;34m(candidate_params, cv, more_results)\u001b[0m\n\u001b[0;32m    814\u001b[0m \u001b[38;5;28;01mif\u001b[39;00m \u001b[38;5;28mself\u001b[39m\u001b[38;5;241m.\u001b[39mverbose \u001b[38;5;241m>\u001b[39m \u001b[38;5;241m0\u001b[39m:\n\u001b[0;32m    815\u001b[0m     \u001b[38;5;28mprint\u001b[39m(\n\u001b[0;32m    816\u001b[0m         \u001b[38;5;124m\"\u001b[39m\u001b[38;5;124mFitting \u001b[39m\u001b[38;5;132;01m{0}\u001b[39;00m\u001b[38;5;124m folds for each of \u001b[39m\u001b[38;5;132;01m{1}\u001b[39;00m\u001b[38;5;124m candidates,\u001b[39m\u001b[38;5;124m\"\u001b[39m\n\u001b[0;32m    817\u001b[0m         \u001b[38;5;124m\"\u001b[39m\u001b[38;5;124m totalling \u001b[39m\u001b[38;5;132;01m{2}\u001b[39;00m\u001b[38;5;124m fits\u001b[39m\u001b[38;5;124m\"\u001b[39m\u001b[38;5;241m.\u001b[39mformat(\n\u001b[0;32m    818\u001b[0m             n_splits, n_candidates, n_candidates \u001b[38;5;241m*\u001b[39m n_splits\n\u001b[0;32m    819\u001b[0m         )\n\u001b[0;32m    820\u001b[0m     )\n\u001b[1;32m--> 822\u001b[0m out \u001b[38;5;241m=\u001b[39m \u001b[43mparallel\u001b[49m\u001b[43m(\u001b[49m\n\u001b[0;32m    823\u001b[0m \u001b[43m    \u001b[49m\u001b[43mdelayed\u001b[49m\u001b[43m(\u001b[49m\u001b[43m_fit_and_score\u001b[49m\u001b[43m)\u001b[49m\u001b[43m(\u001b[49m\n\u001b[0;32m    824\u001b[0m \u001b[43m        \u001b[49m\u001b[43mclone\u001b[49m\u001b[43m(\u001b[49m\u001b[43mbase_estimator\u001b[49m\u001b[43m)\u001b[49m\u001b[43m,\u001b[49m\n\u001b[0;32m    825\u001b[0m \u001b[43m        \u001b[49m\u001b[43mX\u001b[49m\u001b[43m,\u001b[49m\n\u001b[0;32m    826\u001b[0m \u001b[43m        \u001b[49m\u001b[43my\u001b[49m\u001b[43m,\u001b[49m\n\u001b[0;32m    827\u001b[0m \u001b[43m        \u001b[49m\u001b[43mtrain\u001b[49m\u001b[38;5;241;43m=\u001b[39;49m\u001b[43mtrain\u001b[49m\u001b[43m,\u001b[49m\n\u001b[0;32m    828\u001b[0m \u001b[43m        \u001b[49m\u001b[43mtest\u001b[49m\u001b[38;5;241;43m=\u001b[39;49m\u001b[43mtest\u001b[49m\u001b[43m,\u001b[49m\n\u001b[0;32m    829\u001b[0m \u001b[43m        \u001b[49m\u001b[43mparameters\u001b[49m\u001b[38;5;241;43m=\u001b[39;49m\u001b[43mparameters\u001b[49m\u001b[43m,\u001b[49m\n\u001b[0;32m    830\u001b[0m \u001b[43m        \u001b[49m\u001b[43msplit_progress\u001b[49m\u001b[38;5;241;43m=\u001b[39;49m\u001b[43m(\u001b[49m\u001b[43msplit_idx\u001b[49m\u001b[43m,\u001b[49m\u001b[43m \u001b[49m\u001b[43mn_splits\u001b[49m\u001b[43m)\u001b[49m\u001b[43m,\u001b[49m\n\u001b[0;32m    831\u001b[0m \u001b[43m        \u001b[49m\u001b[43mcandidate_progress\u001b[49m\u001b[38;5;241;43m=\u001b[39;49m\u001b[43m(\u001b[49m\u001b[43mcand_idx\u001b[49m\u001b[43m,\u001b[49m\u001b[43m \u001b[49m\u001b[43mn_candidates\u001b[49m\u001b[43m)\u001b[49m\u001b[43m,\u001b[49m\n\u001b[0;32m    832\u001b[0m \u001b[43m        \u001b[49m\u001b[38;5;241;43m*\u001b[39;49m\u001b[38;5;241;43m*\u001b[39;49m\u001b[43mfit_and_score_kwargs\u001b[49m\u001b[43m,\u001b[49m\n\u001b[0;32m    833\u001b[0m \u001b[43m    \u001b[49m\u001b[43m)\u001b[49m\n\u001b[0;32m    834\u001b[0m \u001b[43m    \u001b[49m\u001b[38;5;28;43;01mfor\u001b[39;49;00m\u001b[43m \u001b[49m\u001b[43m(\u001b[49m\u001b[43mcand_idx\u001b[49m\u001b[43m,\u001b[49m\u001b[43m \u001b[49m\u001b[43mparameters\u001b[49m\u001b[43m)\u001b[49m\u001b[43m,\u001b[49m\u001b[43m \u001b[49m\u001b[43m(\u001b[49m\u001b[43msplit_idx\u001b[49m\u001b[43m,\u001b[49m\u001b[43m \u001b[49m\u001b[43m(\u001b[49m\u001b[43mtrain\u001b[49m\u001b[43m,\u001b[49m\u001b[43m \u001b[49m\u001b[43mtest\u001b[49m\u001b[43m)\u001b[49m\u001b[43m)\u001b[49m\u001b[43m \u001b[49m\u001b[38;5;129;43;01min\u001b[39;49;00m\u001b[43m \u001b[49m\u001b[43mproduct\u001b[49m\u001b[43m(\u001b[49m\n\u001b[0;32m    835\u001b[0m \u001b[43m        \u001b[49m\u001b[38;5;28;43menumerate\u001b[39;49m\u001b[43m(\u001b[49m\u001b[43mcandidate_params\u001b[49m\u001b[43m)\u001b[49m\u001b[43m,\u001b[49m\u001b[43m \u001b[49m\u001b[38;5;28;43menumerate\u001b[39;49m\u001b[43m(\u001b[49m\u001b[43mcv\u001b[49m\u001b[38;5;241;43m.\u001b[39;49m\u001b[43msplit\u001b[49m\u001b[43m(\u001b[49m\u001b[43mX\u001b[49m\u001b[43m,\u001b[49m\u001b[43m \u001b[49m\u001b[43my\u001b[49m\u001b[43m,\u001b[49m\u001b[43m \u001b[49m\u001b[43mgroups\u001b[49m\u001b[43m)\u001b[49m\u001b[43m)\u001b[49m\n\u001b[0;32m    836\u001b[0m \u001b[43m    \u001b[49m\u001b[43m)\u001b[49m\n\u001b[0;32m    837\u001b[0m \u001b[43m\u001b[49m\u001b[43m)\u001b[49m\n\u001b[0;32m    839\u001b[0m \u001b[38;5;28;01mif\u001b[39;00m \u001b[38;5;28mlen\u001b[39m(out) \u001b[38;5;241m<\u001b[39m \u001b[38;5;241m1\u001b[39m:\n\u001b[0;32m    840\u001b[0m     \u001b[38;5;28;01mraise\u001b[39;00m \u001b[38;5;167;01mValueError\u001b[39;00m(\n\u001b[0;32m    841\u001b[0m         \u001b[38;5;124m\"\u001b[39m\u001b[38;5;124mNo fits were performed. \u001b[39m\u001b[38;5;124m\"\u001b[39m\n\u001b[0;32m    842\u001b[0m         \u001b[38;5;124m\"\u001b[39m\u001b[38;5;124mWas the CV iterator empty? \u001b[39m\u001b[38;5;124m\"\u001b[39m\n\u001b[0;32m    843\u001b[0m         \u001b[38;5;124m\"\u001b[39m\u001b[38;5;124mWere there no candidates?\u001b[39m\u001b[38;5;124m\"\u001b[39m\n\u001b[0;32m    844\u001b[0m     )\n",
      "File \u001b[1;32mC:\\ProgramData\\Anaconda3\\lib\\site-packages\\joblib\\parallel.py:1056\u001b[0m, in \u001b[0;36mParallel.__call__\u001b[1;34m(self, iterable)\u001b[0m\n\u001b[0;32m   1053\u001b[0m     \u001b[38;5;28mself\u001b[39m\u001b[38;5;241m.\u001b[39m_iterating \u001b[38;5;241m=\u001b[39m \u001b[38;5;28;01mFalse\u001b[39;00m\n\u001b[0;32m   1055\u001b[0m \u001b[38;5;28;01mwith\u001b[39;00m \u001b[38;5;28mself\u001b[39m\u001b[38;5;241m.\u001b[39m_backend\u001b[38;5;241m.\u001b[39mretrieval_context():\n\u001b[1;32m-> 1056\u001b[0m     \u001b[38;5;28;43mself\u001b[39;49m\u001b[38;5;241;43m.\u001b[39;49m\u001b[43mretrieve\u001b[49m\u001b[43m(\u001b[49m\u001b[43m)\u001b[49m\n\u001b[0;32m   1057\u001b[0m \u001b[38;5;66;03m# Make sure that we get a last message telling us we are done\u001b[39;00m\n\u001b[0;32m   1058\u001b[0m elapsed_time \u001b[38;5;241m=\u001b[39m time\u001b[38;5;241m.\u001b[39mtime() \u001b[38;5;241m-\u001b[39m \u001b[38;5;28mself\u001b[39m\u001b[38;5;241m.\u001b[39m_start_time\n",
      "File \u001b[1;32mC:\\ProgramData\\Anaconda3\\lib\\site-packages\\joblib\\parallel.py:935\u001b[0m, in \u001b[0;36mParallel.retrieve\u001b[1;34m(self)\u001b[0m\n\u001b[0;32m    933\u001b[0m \u001b[38;5;28;01mtry\u001b[39;00m:\n\u001b[0;32m    934\u001b[0m     \u001b[38;5;28;01mif\u001b[39;00m \u001b[38;5;28mgetattr\u001b[39m(\u001b[38;5;28mself\u001b[39m\u001b[38;5;241m.\u001b[39m_backend, \u001b[38;5;124m'\u001b[39m\u001b[38;5;124msupports_timeout\u001b[39m\u001b[38;5;124m'\u001b[39m, \u001b[38;5;28;01mFalse\u001b[39;00m):\n\u001b[1;32m--> 935\u001b[0m         \u001b[38;5;28mself\u001b[39m\u001b[38;5;241m.\u001b[39m_output\u001b[38;5;241m.\u001b[39mextend(\u001b[43mjob\u001b[49m\u001b[38;5;241;43m.\u001b[39;49m\u001b[43mget\u001b[49m\u001b[43m(\u001b[49m\u001b[43mtimeout\u001b[49m\u001b[38;5;241;43m=\u001b[39;49m\u001b[38;5;28;43mself\u001b[39;49m\u001b[38;5;241;43m.\u001b[39;49m\u001b[43mtimeout\u001b[49m\u001b[43m)\u001b[49m)\n\u001b[0;32m    936\u001b[0m     \u001b[38;5;28;01melse\u001b[39;00m:\n\u001b[0;32m    937\u001b[0m         \u001b[38;5;28mself\u001b[39m\u001b[38;5;241m.\u001b[39m_output\u001b[38;5;241m.\u001b[39mextend(job\u001b[38;5;241m.\u001b[39mget())\n",
      "File \u001b[1;32mC:\\ProgramData\\Anaconda3\\lib\\site-packages\\joblib\\_parallel_backends.py:542\u001b[0m, in \u001b[0;36mLokyBackend.wrap_future_result\u001b[1;34m(future, timeout)\u001b[0m\n\u001b[0;32m    539\u001b[0m \u001b[38;5;124;03m\"\"\"Wrapper for Future.result to implement the same behaviour as\u001b[39;00m\n\u001b[0;32m    540\u001b[0m \u001b[38;5;124;03mAsyncResults.get from multiprocessing.\"\"\"\u001b[39;00m\n\u001b[0;32m    541\u001b[0m \u001b[38;5;28;01mtry\u001b[39;00m:\n\u001b[1;32m--> 542\u001b[0m     \u001b[38;5;28;01mreturn\u001b[39;00m \u001b[43mfuture\u001b[49m\u001b[38;5;241;43m.\u001b[39;49m\u001b[43mresult\u001b[49m\u001b[43m(\u001b[49m\u001b[43mtimeout\u001b[49m\u001b[38;5;241;43m=\u001b[39;49m\u001b[43mtimeout\u001b[49m\u001b[43m)\u001b[49m\n\u001b[0;32m    543\u001b[0m \u001b[38;5;28;01mexcept\u001b[39;00m CfTimeoutError \u001b[38;5;28;01mas\u001b[39;00m e:\n\u001b[0;32m    544\u001b[0m     \u001b[38;5;28;01mraise\u001b[39;00m \u001b[38;5;167;01mTimeoutError\u001b[39;00m \u001b[38;5;28;01mfrom\u001b[39;00m \u001b[38;5;21;01me\u001b[39;00m\n",
      "File \u001b[1;32mC:\\ProgramData\\Anaconda3\\lib\\concurrent\\futures\\_base.py:446\u001b[0m, in \u001b[0;36mFuture.result\u001b[1;34m(self, timeout)\u001b[0m\n\u001b[0;32m    444\u001b[0m     \u001b[38;5;28;01mraise\u001b[39;00m CancelledError()\n\u001b[0;32m    445\u001b[0m \u001b[38;5;28;01melif\u001b[39;00m \u001b[38;5;28mself\u001b[39m\u001b[38;5;241m.\u001b[39m_state \u001b[38;5;241m==\u001b[39m FINISHED:\n\u001b[1;32m--> 446\u001b[0m     \u001b[38;5;28;01mreturn\u001b[39;00m \u001b[38;5;28;43mself\u001b[39;49m\u001b[38;5;241;43m.\u001b[39;49m\u001b[43m__get_result\u001b[49m\u001b[43m(\u001b[49m\u001b[43m)\u001b[49m\n\u001b[0;32m    447\u001b[0m \u001b[38;5;28;01melse\u001b[39;00m:\n\u001b[0;32m    448\u001b[0m     \u001b[38;5;28;01mraise\u001b[39;00m \u001b[38;5;167;01mTimeoutError\u001b[39;00m()\n",
      "File \u001b[1;32mC:\\ProgramData\\Anaconda3\\lib\\concurrent\\futures\\_base.py:391\u001b[0m, in \u001b[0;36mFuture.__get_result\u001b[1;34m(self)\u001b[0m\n\u001b[0;32m    389\u001b[0m \u001b[38;5;28;01mif\u001b[39;00m \u001b[38;5;28mself\u001b[39m\u001b[38;5;241m.\u001b[39m_exception:\n\u001b[0;32m    390\u001b[0m     \u001b[38;5;28;01mtry\u001b[39;00m:\n\u001b[1;32m--> 391\u001b[0m         \u001b[38;5;28;01mraise\u001b[39;00m \u001b[38;5;28mself\u001b[39m\u001b[38;5;241m.\u001b[39m_exception\n\u001b[0;32m    392\u001b[0m     \u001b[38;5;28;01mfinally\u001b[39;00m:\n\u001b[0;32m    393\u001b[0m         \u001b[38;5;66;03m# Break a reference cycle with the exception in self._exception\u001b[39;00m\n\u001b[0;32m    394\u001b[0m         \u001b[38;5;28mself\u001b[39m \u001b[38;5;241m=\u001b[39m \u001b[38;5;28;01mNone\u001b[39;00m\n",
      "\u001b[1;31mValueError\u001b[0m: Invalid parameter 'solver' for estimator ElasticNet(alpha=0.01, max_iter=1, random_state=0). Valid parameters are: ['alpha', 'copy_X', 'fit_intercept', 'l1_ratio', 'max_iter', 'normalize', 'positive', 'precompute', 'random_state', 'selection', 'tol', 'warm_start']."
     ]
    }
   ],
   "source": [
    "#Definir el optimizador\n",
    "rsearch_elastic = GridSearchCV(ElasticNet(random_state=0),\n",
    "                             param_range,\n",
    "                             n_jobs=-1 , #Usa todos los nucleos\n",
    "                             verbose=4,\n",
    "                             cv=3)\n",
    "#Optimizamos\n",
    "rsearch_elastic.fit(x_train_ridge,y_train_ridge)"
   ]
  },
  {
   "cell_type": "code",
   "execution_count": null,
   "id": "72db6e48",
   "metadata": {},
   "outputs": [],
   "source": [
    "print(f\"R2 Promedio = {rsearch_elastic.best_score_}\")\n",
    "print(f\"Mejor Modelo = {rsearch.best_elastic_estimator_}\")\n",
    "print(f\"Mejores Parámetros = {rsearch_elastic.best_params_}\")"
   ]
  },
  {
   "cell_type": "code",
   "execution_count": null,
   "id": "6f70c094",
   "metadata": {},
   "outputs": [],
   "source": [
    "#Definimos el modelo de RLS\n",
    "elastic = rsearch_elastic.best_estimator_\n",
    "#Entrenamos el modelo\n",
    "elastic.fit(x_train_elastic, y_train_elastic)"
   ]
  },
  {
   "cell_type": "code",
   "execution_count": null,
   "id": "ace8855c",
   "metadata": {},
   "outputs": [],
   "source": [
    "#Validación visual\n",
    "y_pred_test_elastic = elastic.predict(x_test_elastic)\n",
    "print(y_pred_test_elastic[0:5])\n",
    "y_test_elastic.head()"
   ]
  },
  {
   "cell_type": "code",
   "execution_count": null,
   "id": "a198dbc6",
   "metadata": {},
   "outputs": [],
   "source": [
    "#Obtener el R2 de train\n",
    "R2_train_elastic = elastic.score(x_train_elastic, y_train_elastic)\n",
    "print('R2_train = {:.2f}'.format(R2_train_elastic))\n",
    "\n",
    "#Obtener el R2 de test\n",
    "R2_test_elastic = elastic.score(x_test_elastic, y_test_elastic)\n",
    "print('R2_test = {:.2f}'.format(R2_test_elastic))\n",
    "\n",
    "dif_elastic = np.abs(R2_train_elastic - R2_test_elastic)*100\n",
    "\n",
    "#Obtener la diferencia\n",
    "print('Diferencia = {:.4}%'.format(np.abs(R2_train_elastic - R2_test_elastic)*100))v"
   ]
  },
  {
   "cell_type": "code",
   "execution_count": null,
   "id": "086b51cf",
   "metadata": {},
   "outputs": [],
   "source": [
    "#1. Obtener el dato que nos falta\n",
    "y_pred_train_elastic = elastic.predict(x_train_ridge)\n",
    "\n",
    "#2. Calculamos los errores\n",
    "#Errores de train\n",
    "mape_train_elastic = mean_absolute_percentage_error(y_train_elastic,y_pred_train_elastic)*100\n",
    "mse_train_elastic = mean_absolute_error(y_train_elastic, y_pred_train_elastic)\n",
    "rmse_train_elastic = np.sqrt(mse_train_elastic)\n",
    "\n",
    "#Errores de test\n",
    "mape_test_elastic = mean_absolute_percentage_error(y_test_ridge,y_pred_test_elastic)*100\n",
    "mse_test_elastic = mean_absolute_error(y_test_elastic, y_pred_test_elastic)\n",
    "rmse_test_elastic = np.sqrt(mse_test_elastic)\n",
    "\n",
    "print('MAPE_train = {:.4}%'.format(mape_train_elastic))\n",
    "print('MSE_train = {:.4}'.format(mse_train_elastic))\n",
    "print('RMSE_train = {:.4}'.format(rmse_train_elastic))\n",
    "print()\n",
    "print('MAPE_test = {:.4}%'.format(mape_test_elastic))\n",
    "print('MSE_test = {:.4}'.format(mse_test_elastic))\n",
    "print('RMSE_test = {:.4}'.format(rmse_test_elastic))"
   ]
  },
  {
   "cell_type": "markdown",
   "id": "926f1cc2",
   "metadata": {},
   "source": [
    "---\n",
    "### Ventajas y desventajas de la Regresión ElasticNet\n",
    "_Ventajas:_\n",
    "1. Combinación entre modelos Lasso y Ridge\n",
    "\n",
    "_Desventajas:_\n",
    "1. Alta necesidad de procesamiento de datos\n",
    "\n",
    "---\n",
    "### Campo en dónde se utiliza más la RegresiónElasticNet\n",
    "---\n",
    "\n",
    "El modelo de regresión ElasticNet utiliza una combinación de los modelos Lasso y Ridge, por lo que es util para realizar subgrupos y penalizar multicolinealidad. Sin embargo, este modelo necesita ser utilizado en grandes proyectos que tengan la inversión suficiente para poder soportar este nivel de procesamiento"
   ]
  },
  {
   "cell_type": "markdown",
   "id": "dbadd9ea",
   "metadata": {},
   "source": [
    "Tabla de comparaciones\n",
    "="
   ]
  },
  {
   "cell_type": "code",
   "execution_count": null,
   "id": "7e752181",
   "metadata": {},
   "outputs": [],
   "source": [
    "comparisson = {'MLR': [R2_train, R2_test, dif, mape_train, mse_train, rmse_train, mape_test, mape_test, rmse_test], \n",
    "               'Lasso': [R2_train_lasso, R2_test_lasso, dif_lasso, mape_train_lasso, mse_train_lasso, rmse_train_lasso, mape_test_lasso, mape_test_lasso, rmse_test_lasso],\n",
    "               'Ridge': [R2_train_ridge, R2_test_ridge, dif_ridge, mape_train_ridge, mse_train_ridge, rmse_train_ridge, mape_test_ridge, mape_test_ridge, rmse_test_ridge],\n",
    "               'Elastic Net': [R2_train_Elastic, R2_test_Elastic, dif_elastic, mape_train_elastic, mse_train_elastic, rmse_train_elastic, mape_test_elastic, mape_test_elastic, rmse_test_elastic]}\n",
    "pd.DataFrame(data = comparisson, index = ['R2 de train', 'R2 de test', 'Diferencia R2',\n",
    "                                          'MAPE de train', 'MSE de train', 'RMSE de train',\n",
    "                                          'MAPE de test', 'MSE de test', 'RMSE de test'])"
   ]
  },
  {
   "cell_type": "markdown",
   "id": "261f5198",
   "metadata": {},
   "source": [
    "## Referencias:\n",
    "Eculedian (2019). _Pros and cons of common Machine Learning algorithms_ medium.com link=https://medium.com/@eculidean/pros-and-cons-of-common-machine-learning-algorithms-45e05423264f\n",
    "Ohri, A. (2021). _LASSO Regression: A Complete Understanding (2021)_. Unext. Recuperado de: https://www.jigsawacademy.com/blogs/ai-ml/lasso-regression#:~:text=Lasso%20regression%20is%20also%20called,helps%20to%20increase%20model%20interpretation.\n",
    "Joaquin R. (2020). _Regularización Ridge, Lasso y Elastic Net con Python._ cienciadedatos.net Recuperado de: https://www.cienciadedatos.net/documentos/py14-ridge-lasso-elastic-net-python.html"
   ]
  }
 ],
 "metadata": {
  "kernelspec": {
   "display_name": "Python 3 (ipykernel)",
   "language": "python",
   "name": "python3"
  },
  "language_info": {
   "codemirror_mode": {
    "name": "ipython",
    "version": 3
   },
   "file_extension": ".py",
   "mimetype": "text/x-python",
   "name": "python",
   "nbconvert_exporter": "python",
   "pygments_lexer": "ipython3",
   "version": "3.9.12"
  }
 },
 "nbformat": 4,
 "nbformat_minor": 5
}
